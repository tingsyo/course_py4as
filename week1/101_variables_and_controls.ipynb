{
 "cells": [
  {
   "cell_type": "markdown",
   "metadata": {
    "slideshow": {
     "slide_type": "-"
    }
   },
   "source": [
    "# Creating Variables\n",
    "\n",
    "Unlike other programming languages, Python has no command for declaring a variable.\n",
    "A variable is created the moment you first assign a value to it."
   ]
  },
  {
   "cell_type": "code",
   "execution_count": 1,
   "metadata": {},
   "outputs": [],
   "source": [
    "a = \"Dear\"\n",
    "b = \"John\"\n",
    "x = 13\n",
    "y = 6.5"
   ]
  },
  {
   "cell_type": "markdown",
   "metadata": {},
   "source": [
    "# Output Variables\n",
    "\n",
    "The Python `print` statement is often used to output variables."
   ]
  },
  {
   "cell_type": "code",
   "execution_count": 2,
   "metadata": {},
   "outputs": [
    {
     "name": "stdout",
     "output_type": "stream",
     "text": [
      "Dear\n",
      "John\n",
      "DearJohn\n",
      "Dear John\n"
     ]
    }
   ],
   "source": [
    "print(a)\n",
    "print(b)\n",
    "print(a+b)\n",
    "print(a+\" \"+b)"
   ]
  },
  {
   "cell_type": "code",
   "execution_count": 3,
   "metadata": {},
   "outputs": [
    {
     "name": "stdout",
     "output_type": "stream",
     "text": [
      "13\n",
      "6.5\n",
      "19.5\n"
     ]
    }
   ],
   "source": [
    "print(x)\n",
    "print(y)\n",
    "print(x+y)"
   ]
  },
  {
   "cell_type": "markdown",
   "metadata": {},
   "source": [
    "# Variable Types\n",
    "\n",
    "Basic and frequently used variable types are: strings, integer, and float point numbers."
   ]
  },
  {
   "cell_type": "code",
   "execution_count": 4,
   "metadata": {},
   "outputs": [
    {
     "name": "stdout",
     "output_type": "stream",
     "text": [
      "<class 'str'>\n",
      "<class 'str'>\n",
      "<class 'int'>\n",
      "<class 'float'>\n"
     ]
    }
   ],
   "source": [
    "print(type(a))\n",
    "print(type(b))\n",
    "print(type(x))\n",
    "print(type(y))"
   ]
  },
  {
   "cell_type": "markdown",
   "metadata": {},
   "source": [
    "# Casting\n",
    "\n",
    "We can use `str()`, `int()`, `float()` to convert variables to a different type.\n",
    "- `int()` - constructs an integer number from an integer literal, a float literal (by rounding down to the previous whole number), or a string literal (providing the string represents a whole number)\n",
    "- `float()` - constructs a float number from an integer literal, a float literal or a string literal (providing the string represents a float or an integer)\n",
    "- `str()` - constructs a string from a wide variety of data types, including strings, integer literals and float literals"
   ]
  },
  {
   "cell_type": "code",
   "execution_count": 5,
   "metadata": {},
   "outputs": [],
   "source": [
    "x = int(1)       # x will be 1\n",
    "y = int(2.8)     # y will be 2\n",
    "z = int(\"3\")     # z will be 3"
   ]
  },
  {
   "cell_type": "code",
   "execution_count": 6,
   "metadata": {},
   "outputs": [],
   "source": [
    "x = float(1)     # x will be 1.0\n",
    "y = float(2.8)   # y will be 2.8\n",
    "z = float(\"3\")   # z will be 3.0\n",
    "w = float(\"4.2\") # w will be 4.2"
   ]
  },
  {
   "cell_type": "code",
   "execution_count": 7,
   "metadata": {},
   "outputs": [],
   "source": [
    "x = str(\"s1\")    # x will be 's1'\n",
    "y = str(2)       # y will be '2'\n",
    "z = str(3.0)     # z will be '3.0'"
   ]
  },
  {
   "cell_type": "markdown",
   "metadata": {},
   "source": [
    "# Operators\n",
    "\n",
    "## Python Arithmetic Operators\n",
    "\n",
    "- `+`\tAddition\t\n",
    "- `-` \tSubtraction\t\n",
    "- `*` \tMultiplication\n",
    "- `/`\tDivision\n",
    "- `%`\tModulus\t\n",
    "- `**`\tExponentiation\n",
    "- `//`\tFloor division"
   ]
  },
  {
   "cell_type": "markdown",
   "metadata": {},
   "source": [
    "## Python Assignment Operators\n",
    "\n",
    "- `=`\t:`x = 5`\tis the same as  `x = 5`\t\n",
    "- `+=`\t:`x += 3`\tis the same as  `x = x + 3`\t\n",
    "- `-=`\t:`x -= 3`\tis the same as  `x = x - 3`\t\n",
    "- `*=`\t:`x *= 3`\tis the same as  `x = x * 3`\t\n",
    "- `/=`\t:`x /= 3`\tis the same as  `x = x / 3`\t\n",
    "- `%=`\t:`x %= 3`\tis the same as  `x = x % 3`\t\n",
    "- `//=`\t:`x //= 3`\tis the same as  `x = x // 3`\t\n",
    "- `**=`\t:`x **= 3`\tis the same as  `x = x ** 3`"
   ]
  },
  {
   "cell_type": "markdown",
   "metadata": {},
   "source": [
    "## Python Comparison Operators\n",
    "\n",
    "- `==`:\tEqual\n",
    "- `!=`:\tNot equal\n",
    "- `>`:\tGreater than\n",
    "- `<`:\tLess than\n",
    "- `>=`:\tGreater than or equal to\n",
    "- `<=`:\tLess than or equal to"
   ]
  },
  {
   "cell_type": "markdown",
   "metadata": {},
   "source": [
    "## Python Logical Operators\n",
    "\n",
    "- `and`: \tReturns True if both statements are true.\tExample: `x < 5 and  x < 10`\n",
    "- `or`:\t    Returns True if one of the statements is true.\tExample: `x < 5 or x < 4`\n",
    "- `not`:\tReverse the result, returns False if the result is true.\tExample: `not(x < 5 and x < 10)`\n",
    "- `is`: \tReturns true if both variables are the same object.\tExample: `x is y`\t\n",
    "- `is not`:\tReturns true if both variables are not the same object.\tExample: `x is not y`\n",
    "- `in`: \tReturns True if a sequence with the specified value is present in the object.\tExample: `x in y`\t\n",
    "- `not in`:\tReturns True if a sequence with the specified value is not present in the object.\tExample: `x not in y`\n"
   ]
  },
  {
   "cell_type": "markdown",
   "metadata": {},
   "source": [
    "# Controls\n",
    "\n",
    "## if...else...\n",
    "\n",
    "Python supports the usual logical conditions from mathematics. These conditions can be used in several ways, most commonly in \"if statements\" and loops."
   ]
  },
  {
   "cell_type": "code",
   "execution_count": 8,
   "metadata": {},
   "outputs": [
    {
     "name": "stdout",
     "output_type": "stream",
     "text": [
      "a is greater than b\n"
     ]
    }
   ],
   "source": [
    "a = 200\n",
    "b = 33\n",
    "if b > a:\n",
    "  print(\"b is greater than a\")\n",
    "elif a == b:\n",
    "  print(\"a and b are equal\")\n",
    "else:\n",
    "  print(\"a is greater than b\")"
   ]
  },
  {
   "cell_type": "markdown",
   "metadata": {},
   "source": [
    "## Short Hand If ... Else\n",
    "\n",
    "If you have only one statement to execute, one for if, and one for else, you can put it all on the same line"
   ]
  },
  {
   "cell_type": "code",
   "execution_count": 9,
   "metadata": {},
   "outputs": [
    {
     "name": "stdout",
     "output_type": "stream",
     "text": [
      "A\n"
     ]
    }
   ],
   "source": [
    "print(\"A\") if a > b else print(\"=\") if a == b else print(\"B\")"
   ]
  },
  {
   "cell_type": "markdown",
   "metadata": {},
   "source": [
    "## The while loop\n",
    "\n",
    "With the `while` loop we can execute a set of statements as long as a condition is true. The loop can be stopped by the `break` statement, or skipped with `continue` statement."
   ]
  },
  {
   "cell_type": "code",
   "execution_count": 10,
   "metadata": {},
   "outputs": [
    {
     "name": "stdout",
     "output_type": "stream",
     "text": [
      "1\n",
      "2\n",
      "3\n",
      "4\n",
      "5\n"
     ]
    }
   ],
   "source": [
    "i = 1\n",
    "while i < 6:\n",
    "  print(i)\n",
    "  i += 1"
   ]
  },
  {
   "cell_type": "code",
   "execution_count": 11,
   "metadata": {},
   "outputs": [
    {
     "name": "stdout",
     "output_type": "stream",
     "text": [
      "1\n",
      "2\n",
      "3\n"
     ]
    }
   ],
   "source": [
    "i = 1\n",
    "while i < 6:\n",
    "  print(i)\n",
    "  if i == 3:\n",
    "    break\n",
    "  i += 1"
   ]
  },
  {
   "cell_type": "code",
   "execution_count": 12,
   "metadata": {},
   "outputs": [
    {
     "name": "stdout",
     "output_type": "stream",
     "text": [
      "1\n",
      "2\n",
      "4\n",
      "5\n",
      "6\n"
     ]
    }
   ],
   "source": [
    "i = 0\n",
    "while i < 6:\n",
    "  i += 1 \n",
    "  if i == 3:\n",
    "    continue\n",
    "  print(i)"
   ]
  },
  {
   "cell_type": "markdown",
   "metadata": {},
   "source": [
    "## The for loop\n",
    "\n",
    "A `for` loop is used for iterating over a sequence (that is either a list, a tuple, a dictionary, a set, or a string).\n",
    "\n",
    "The `for` loops also work with `break` and `continue` just the same as the `while` loop."
   ]
  },
  {
   "cell_type": "code",
   "execution_count": 13,
   "metadata": {},
   "outputs": [
    {
     "name": "stdout",
     "output_type": "stream",
     "text": [
      "apple\n",
      "banana\n"
     ]
    }
   ],
   "source": [
    "fruits = [\"apple\", \"banana\", \"cherry\"]\n",
    "for x in fruits:\n",
    "  print(x) \n",
    "  if x == \"banana\":\n",
    "    break"
   ]
  },
  {
   "cell_type": "code",
   "execution_count": 14,
   "metadata": {},
   "outputs": [
    {
     "name": "stdout",
     "output_type": "stream",
     "text": [
      "apple\n",
      "cherry\n"
     ]
    }
   ],
   "source": [
    "fruits = [\"apple\", \"banana\", \"cherry\"]\n",
    "for x in fruits:\n",
    "  if x == \"banana\":\n",
    "    continue\n",
    "  print(x)"
   ]
  },
  {
   "cell_type": "code",
   "execution_count": 15,
   "metadata": {},
   "outputs": [
    {
     "name": "stdout",
     "output_type": "stream",
     "text": [
      "b\n",
      "a\n",
      "n\n",
      "a\n",
      "n\n",
      "a\n"
     ]
    }
   ],
   "source": [
    "for x in \"banana\":\n",
    "  print(x)"
   ]
  },
  {
   "cell_type": "markdown",
   "metadata": {},
   "source": [
    "## The range() Function\n",
    "\n",
    "To loop through a set of code a specified number of times, we can use the `range()` function.\n",
    "\n",
    "The `range()` function returns a sequence of numbers, starting from `0` by default, and increments by `1`, and ends at a specified number."
   ]
  },
  {
   "cell_type": "code",
   "execution_count": 16,
   "metadata": {},
   "outputs": [
    {
     "name": "stdout",
     "output_type": "stream",
     "text": [
      "2\n",
      "5\n",
      "8\n",
      "11\n",
      "14\n",
      "17\n",
      "20\n",
      "23\n",
      "26\n",
      "29\n"
     ]
    }
   ],
   "source": [
    "for x in range(2, 30, 3):\n",
    "  print(x)"
   ]
  }
 ],
 "metadata": {
  "kernelspec": {
   "display_name": "Python 3",
   "language": "python",
   "name": "python3"
  },
  "language_info": {
   "codemirror_mode": {
    "name": "ipython",
    "version": 3
   },
   "file_extension": ".py",
   "mimetype": "text/x-python",
   "name": "python",
   "nbconvert_exporter": "python",
   "pygments_lexer": "ipython3",
   "version": "3.6.8"
  }
 },
 "nbformat": 4,
 "nbformat_minor": 2
}
