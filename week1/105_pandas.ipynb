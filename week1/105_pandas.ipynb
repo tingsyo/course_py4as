{
 "cells": [
  {
   "cell_type": "markdown",
   "metadata": {},
   "source": [
    "# Pandas\n",
    "\n",
    "*pandas* is an open source, BSD-licensed library providing high-performance, easy-to-use data structures and data analysis tools for the Python programming language.\n",
    "\n",
    "Pandas has several advantages:\n",
    "- Pandas provides powerful tools for processing table-like data.\n",
    "- Pandas adds indexes and labels to 1d and 2d NumPy arrays.\n",
    "- Easy handling of missing data.\n",
    "- Pandas DataFrame object can now be directly used by R.\n",
    "\n",
    "However, the majority of meteorological data is not *table-like*. We mainly take advatage of pandas's input/output capability."
   ]
  },
  {
   "cell_type": "code",
   "execution_count": 1,
   "metadata": {},
   "outputs": [],
   "source": [
    "# Loading libraries\n",
    "import numpy as np\n",
    "import pandas as pd"
   ]
  },
  {
   "cell_type": "markdown",
   "metadata": {},
   "source": [
    "*Comma-Seperated Values* is a very common format for atble-like data. Let's see how we can read such a file into Python. The file *../data/ShiLin.PM2.5.csv* contains PM2.5 data of EPA's ShiLin station. Let's try to read it in numpy:"
   ]
  },
  {
   "cell_type": "code",
   "execution_count": 2,
   "metadata": {},
   "outputs": [
    {
     "name": "stdout",
     "output_type": "stream",
     "text": [
      "Data dimension: (1827, 25)\n",
      "Show the first 5 rows:\n",
      "[[        nan         nan         nan         nan         nan         nan\n",
      "          nan         nan         nan         nan         nan         nan\n",
      "          nan         nan         nan         nan         nan         nan\n",
      "          nan         nan         nan         nan         nan         nan\n",
      "          nan]\n",
      " [        nan 18.         33.         29.         41.         31.\n",
      "  10.         13.         20.         16.         10.         23.\n",
      "  16.          4.         12.         27.         31.         15.\n",
      "  18.         33.         21.         17.         30.         27.\n",
      "  30.        ]\n",
      " [        nan 28.         21.         29.         19.         15.\n",
      "  30.         33.         23.         16.         18.         32.\n",
      "  25.         16.         32.         25.         14.         22.\n",
      "  25.         24.         18.         21.         32.         17.\n",
      "  10.        ]\n",
      " [        nan 19.          9.          9.         25.         17.\n",
      "  24.         26.         14.         24.94751094 40.         13.\n",
      "   9.         13.          9.          6.          4.          4.\n",
      "   9.          5.          0.         10.         35.         24.\n",
      "   5.        ]\n",
      " [        nan 16.         26.         25.         22.         31.\n",
      "  23.78313628 28.         26.         28.         42.         39.\n",
      "  26.         42.         52.         39.         49.         49.\n",
      "  40.         44.         28.         30.         30.         23.\n",
      "  36.        ]]\n"
     ]
    }
   ],
   "source": [
    "# Read data from a csv file\n",
    "data = np.genfromtxt('../data/ShiLin.PM2.5.csv', delimiter=',', encoding='utf-8')\n",
    "print(\"Data dimension: \" + str(data.shape))\n",
    "print(\"Show the first 5 rows:\")\n",
    "print(data[:5])"
   ]
  },
  {
   "cell_type": "markdown",
   "metadata": {},
   "source": [
    "And then, we read it with pandas."
   ]
  },
  {
   "cell_type": "code",
   "execution_count": 3,
   "metadata": {},
   "outputs": [
    {
     "name": "stdout",
     "output_type": "stream",
     "text": [
      "Data dimension: (1826, 25)\n",
      "Show the first 5 rows:\n",
      "         date   X00   X01   X02   X03   X04        X05   X06   X07        X08  \\\n",
      "0  2011/01/01  18.0  33.0  29.0  41.0  31.0  10.000000  13.0  20.0  16.000000   \n",
      "1  2011/01/02  28.0  21.0  29.0  19.0  15.0  30.000000  33.0  23.0  16.000000   \n",
      "2  2011/01/03  19.0   9.0   9.0  25.0  17.0  24.000000  26.0  14.0  24.947511   \n",
      "3  2011/01/04  16.0  26.0  25.0  22.0  31.0  23.783136  28.0  26.0  28.000000   \n",
      "4  2011/01/05  30.0  26.0  27.0  26.0  33.0  22.000000  17.0  24.0  18.000000   \n",
      "\n",
      "   ...   X14   X15   X16   X17   X18   X19   X20   X21   X22   X23  \n",
      "0  ...  27.0  31.0  15.0  18.0  33.0  21.0  17.0  30.0  27.0  30.0  \n",
      "1  ...  25.0  14.0  22.0  25.0  24.0  18.0  21.0  32.0  17.0  10.0  \n",
      "2  ...   6.0   4.0   4.0   9.0   5.0   0.0  10.0  35.0  24.0   5.0  \n",
      "3  ...  39.0  49.0  49.0  40.0  44.0  28.0  30.0  30.0  23.0  36.0  \n",
      "4  ...  13.0  21.0  27.0  11.0  22.0  22.0  31.0  27.0  12.0  13.0  \n",
      "\n",
      "[5 rows x 25 columns]\n"
     ]
    }
   ],
   "source": [
    "data = pd.read_csv('../data/ShiLin.PM2.5.csv', encoding='utf-8')\n",
    "print(\"Data dimension: \" + str(data.shape))\n",
    "print(\"Show the first 5 rows:\")\n",
    "print(data[:5])"
   ]
  },
  {
   "cell_type": "markdown",
   "metadata": {},
   "source": [
    "As you can see, `pandas.read_csv`  not only provides cleaner code, but also get more correct results.\n",
    "\n",
    "Besides data input/output, pandas also provides many functions for data manipulations. We will discuss these functions in details in the later topics."
   ]
  },
  {
   "cell_type": "code",
   "execution_count": null,
   "metadata": {},
   "outputs": [],
   "source": []
  }
 ],
 "metadata": {
  "kernelspec": {
   "display_name": "Python 3",
   "language": "python",
   "name": "python3"
  },
  "language_info": {
   "codemirror_mode": {
    "name": "ipython",
    "version": 3
   },
   "file_extension": ".py",
   "mimetype": "text/x-python",
   "name": "python",
   "nbconvert_exporter": "python",
   "pygments_lexer": "ipython3",
   "version": "3.6.8"
  }
 },
 "nbformat": 4,
 "nbformat_minor": 2
}
