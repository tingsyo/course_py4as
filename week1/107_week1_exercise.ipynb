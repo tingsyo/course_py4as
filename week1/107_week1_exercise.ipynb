{
 "cells": [
  {
   "cell_type": "markdown",
   "metadata": {},
   "source": [
    "# Python Basics Exercise\n",
    "\n",
    "本週的課程是介紹 Python 的基礎使用，以下有幾個練習，請完成這些練習，並且回答[作業上的問題](https://goo.gl/forms/JMu5PdM3DO3fxqtK2)。\n",
    "\n"
   ]
  },
  {
   "cell_type": "markdown",
   "metadata": {},
   "source": [
    "## Exercise 1. \n",
    "Python 中的變數無需事先宣告，會在第一次指定內容時自動宣告。無論如何，Python 的變數命名仍有限制，例如某些系統保留字無法使用，而變數名稱也不能以數字開頭。以下是一些 Python 的保留字：\n",
    "\n",
    "|Some Keywords|-|-       |-        |-      |\n",
    "|------|--------|-------|--------|------|\n",
    "|False |class   |finally|is      |return|\n",
    "|None  |continue|for    |lambda  |try   |\n",
    "|True  |def     |from   |nonlocal|while |\n",
    "|and   |del     |global |not     |with  |\n",
    "|as    |elif    |if     |or      |yield |\n",
    "|assert|else    |import |pass    |      |\n",
    "|break |except  |in     |raise   |      |\n",
    "\n",
    "請嘗試定義幾個變數，看看什麼樣的變數名稱是合法的？"
   ]
  },
  {
   "cell_type": "code",
   "execution_count": 1,
   "metadata": {},
   "outputs": [
    {
     "ename": "SyntaxError",
     "evalue": "invalid syntax (<ipython-input-1-b0874b38614d>, line 1)",
     "output_type": "error",
     "traceback": [
      "\u001b[0;36m  File \u001b[0;32m\"<ipython-input-1-b0874b38614d>\"\u001b[0;36m, line \u001b[0;32m1\u001b[0m\n\u001b[0;31m    elif=1\u001b[0m\n\u001b[0m       ^\u001b[0m\n\u001b[0;31mSyntaxError\u001b[0m\u001b[0;31m:\u001b[0m invalid syntax\n"
     ]
    }
   ],
   "source": [
    "elif=1"
   ]
  },
  {
   "cell_type": "code",
   "execution_count": null,
   "metadata": {},
   "outputs": [],
   "source": [
    "assert=2"
   ]
  },
  {
   "cell_type": "code",
   "execution_count": null,
   "metadata": {},
   "outputs": [],
   "source": [
    "6cities=6"
   ]
  },
  {
   "cell_type": "code",
   "execution_count": null,
   "metadata": {},
   "outputs": [],
   "source": [
    "rockstar='John'"
   ]
  },
  {
   "cell_type": "markdown",
   "metadata": {},
   "source": [
    "## Exercise 2. \n",
    "\n",
    "請用 `pandas.read_csv` 讀取 `../data/cwb_earthquake_20181101.csv`，內容是中央氣象局自2018年1月1日到11月1日的地震資料。請用這組資料回答以下問題："
   ]
  },
  {
   "cell_type": "code",
   "execution_count": 2,
   "metadata": {},
   "outputs": [
    {
     "data": {
      "text/plain": [
       "(946, 7)"
      ]
     },
     "execution_count": 2,
     "metadata": {},
     "output_type": "execute_result"
    }
   ],
   "source": [
    "import numpy as np\n",
    "import pandas as pd\n",
    "\n",
    "# 請用以下指令讀取檔案，由於檔案內含中文，或許需要指定編碼（encoding='utf-8'）\n",
    "\n",
    "data = pd.read_csv('../data/cwb_earthquake_20181101.csv')\n",
    "data.shape"
   ]
  },
  {
   "cell_type": "markdown",
   "metadata": {},
   "source": [
    "`pandas.read_csv` 會讀取資料檔案並且轉換成 `DataFrame` 物件，`DataFrame.keys()` 會顯示資料的欄位名稱。"
   ]
  },
  {
   "cell_type": "code",
   "execution_count": 3,
   "metadata": {},
   "outputs": [
    {
     "data": {
      "text/plain": [
       "Index(['編號', '地震時間', '經度', '緯度', '深度', '規模', '震央位置'], dtype='object')"
      ]
     },
     "execution_count": 3,
     "metadata": {},
     "output_type": "execute_result"
    }
   ],
   "source": [
    "data.keys()"
   ]
  },
  {
   "cell_type": "markdown",
   "metadata": {},
   "source": [
    "在課堂的例子中，我們可以用 `matplotlib.pyplot.hist()` 來繪製 histogram，讓我們來看看 2018 年地震的 '經度', '緯度', '深度', '規模' 的分佈："
   ]
  },
  {
   "cell_type": "code",
   "execution_count": 4,
   "metadata": {},
   "outputs": [
    {
     "data": {
      "text/plain": [
       "Text(0.5, 1.0, '震央緯度')"
      ]
     },
     "execution_count": 4,
     "metadata": {},
     "output_type": "execute_result"
    },
    {
     "data": {
      "image/png": "[encoded data removed]",
      "text/plain": [
       "<Figure size 648x504 with 4 Axes>"
      ]
     },
     "metadata": {
      "needs_background": "light"
     },
     "output_type": "display_data"
    }
   ],
   "source": [
    "%matplotlib inline\n",
    "import matplotlib.pyplot as plt\n",
    "import matplotlib.gridspec as gridspec\n",
    "\n",
    "fig = plt.figure(figsize=(9, 7))\n",
    "gs = gridspec.GridSpec(nrows=2, ncols=2)\n",
    "\n",
    "#  地震規模\n",
    "ax0 = fig.add_subplot(gs[0, 0])\n",
    "ax0.hist(data['規模'], bins=30, density=True)\n",
    "ax0.set_title('地震規模')\n",
    "\n",
    "#  地震深度\n",
    "ax0 = fig.add_subplot(gs[0, 1])\n",
    "ax0.hist(data['深度'], bins=30, density=True)\n",
    "ax0.set_title('地震深度')\n",
    "\n",
    "#  震央經度\n",
    "ax0 = fig.add_subplot(gs[1, 0])\n",
    "ax0.hist(data['經度'], bins=30, density=True)\n",
    "ax0.set_title('震央經度')\n",
    "\n",
    "#  震央經度\n",
    "ax0 = fig.add_subplot(gs[1, 1])\n",
    "ax0.hist(data['緯度'], bins=30, density=True)\n",
    "ax0.set_title('震央緯度')"
   ]
  },
  {
   "cell_type": "markdown",
   "metadata": {},
   "source": [
    "## Exercise 3.\n",
    "\n",
    "要在一串數字裡找到最大值，NumPy 提供了 `numpy.max()` 函數，而 Pandas 提供了 `pandas.Dataframe.max()` 函數，我們可以用任何一種方法知道這些資料裡最大的地震規模：\n",
    "`data['規模'].max()` 或 `np.max(data['規模'])`"
   ]
  },
  {
   "cell_type": "code",
   "execution_count": 5,
   "metadata": {},
   "outputs": [
    {
     "data": {
      "text/plain": [
       "6.2"
      ]
     },
     "execution_count": 5,
     "metadata": {},
     "output_type": "execute_result"
    }
   ],
   "source": [
    "# 2018/01/01 - 2018/10/31 發生最大的地震規模是多少？\n",
    "data['規模'].max()"
   ]
  },
  {
   "cell_type": "markdown",
   "metadata": {},
   "source": [
    "## Exercise 4.\n",
    "\n",
    "我們可以用 `data['規模'].max()` 找到最大的地震規模，也可以用 `data['規模'].idxmax()` 找到最大地震規模的那筆資料，然後用 `pandas.Dataframe.loc[index]` 來輸出這筆資料。"
   ]
  },
  {
   "cell_type": "code",
   "execution_count": 6,
   "metadata": {},
   "outputs": [
    {
     "data": {
      "text/plain": [
       "編號                             022   \n",
       "地震時間             2018/2/6 下午 11:50:00\n",
       "經度                             121.73\n",
       "緯度                               24.1\n",
       "深度                                6.3\n",
       "規模                                6.2\n",
       "震央位置    花蓮縣政府東北方  16.5  公里 (位於臺灣東部海域)\n",
       "Name: 799, dtype: object"
      ]
     },
     "execution_count": 6,
     "metadata": {},
     "output_type": "execute_result"
    }
   ],
   "source": [
    "# 用 pandas.Dataframe.loc[index] 來輸出規模最大的地震\n",
    "data.loc[data['規模'].idxmax()]"
   ]
  },
  {
   "cell_type": "markdown",
   "metadata": {},
   "source": [
    "依據以上的例子，我們也可以用 `data['深度'].idxmin()` 找出震央深度最淺的地震"
   ]
  },
  {
   "cell_type": "code",
   "execution_count": 7,
   "metadata": {},
   "outputs": [
    {
     "data": {
      "text/plain": [
       "編號                              103   \n",
       "地震時間              2018/7/3 下午 05:20:00\n",
       "經度                               120.9\n",
       "緯度                               23.16\n",
       "深度                                   1\n",
       "規模                                 4.8\n",
       "震央位置    臺東縣政府北偏西方  51.7  公里 (位於臺東縣海端鄉)\n",
       "Name: 172, dtype: object"
      ]
     },
     "execution_count": 7,
     "metadata": {},
     "output_type": "execute_result"
    }
   ],
   "source": [
    "# 用 pandas.Dataframe.loc[index] 和 pandas.DataFrame.idxmin() 找出震央深度最淺的地震\n",
    "data.loc[data['深度'].idxmin()]"
   ]
  },
  {
   "cell_type": "markdown",
   "metadata": {},
   "source": [
    "## Exercise 5.\n",
    "\n",
    "利用 `pandas.Dataframe.mean()` 函數，我們可以快速計算某個資料欄位的平均值。下面的例子，我們把地震分成「偏東」和「偏西」兩類，分別計算他們的地震規模。"
   ]
  },
  {
   "cell_type": "code",
   "execution_count": 8,
   "metadata": {},
   "outputs": [
    {
     "name": "stdout",
     "output_type": "stream",
     "text": [
      "Earthquake strength east of 121.5 E: 3.4771771771771767\n",
      "Earthquake strength west of 121.5 E: 3.443928571428574\n"
     ]
    }
   ],
   "source": [
    "mean_lon = data['經度'].mean()\n",
    "strength_east = data.loc[data['經度']>mean_lon, '規模'].mean()\n",
    "strength_west = data.loc[data['經度']<=mean_lon, '規模'].mean()\n",
    "print(\"Earthquake strength east of 121.5 E: \" + str(strength_east))\n",
    "print(\"Earthquake strength west of 121.5 E: \" + str(strength_west))"
   ]
  },
  {
   "cell_type": "markdown",
   "metadata": {},
   "source": [
    "從初步結果來看，震央偏東和偏西的地震似乎在強度上沒有什麼差異。接下來，請依照上面的例子，計算規模大於平均和小於平均的地震，他們震央平均深度的差異："
   ]
  },
  {
   "cell_type": "code",
   "execution_count": 9,
   "metadata": {},
   "outputs": [
    {
     "name": "stdout",
     "output_type": "stream",
     "text": [
      "Average depth of strong earthquake: 17.277977528089878\n",
      "Average depth of weak earthquake: 11.020958083832339\n"
     ]
    },
    {
     "data": {
      "text/plain": [
       "6.257019444257539"
      ]
     },
     "execution_count": 9,
     "metadata": {},
     "output_type": "execute_result"
    }
   ],
   "source": [
    "mean_strength = data['規模'].mean()\n",
    "depth_above_average = data.loc[data['規模']>mean_strength, '深度'].mean()\n",
    "depth_bellow_average = data.loc[data['規模']<=mean_strength, '深度'].mean()\n",
    "print(\"Average depth of strong earthquake: \" + str(depth_above_average))\n",
    "print(\"Average depth of weak earthquake: \" + str(depth_bellow_average))\n",
    "depth_above_average - depth_bellow_average"
   ]
  },
  {
   "cell_type": "code",
   "execution_count": null,
   "metadata": {},
   "outputs": [],
   "source": []
  }
 ],
 "metadata": {
  "kernelspec": {
   "display_name": "Python 3",
   "language": "python",
   "name": "python3"
  },
  "language_info": {
   "codemirror_mode": {
    "name": "ipython",
    "version": 3
   },
   "file_extension": ".py",
   "mimetype": "text/x-python",
   "name": "python",
   "nbconvert_exporter": "python",
   "pygments_lexer": "ipython3",
   "version": "3.6.8"
  }
 },
 "nbformat": 4,
 "nbformat_minor": 2
}
