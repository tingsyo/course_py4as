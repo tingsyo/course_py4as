{
 "cells": [
  {
   "cell_type": "markdown",
   "metadata": {},
   "source": [
    "# Python Functions\n",
    "\n",
    "## What is a function?\n",
    "\n",
    "- A function is **a block of code** which only runs when it is called.\n",
    "- You can pass data, known as **parameters / arguments**, into a function.\n",
    "- A function can **return** data as a result.\n",
    "\n",
    "## A simple example\n",
    "\n",
    "For example, the following function returns the square of the specified parameter:"
   ]
  },
  {
   "cell_type": "code",
   "execution_count": 1,
   "metadata": {},
   "outputs": [
    {
     "data": {
      "text/plain": [
       "256"
      ]
     },
     "execution_count": 1,
     "metadata": {},
     "output_type": "execute_result"
    }
   ],
   "source": [
    "def square(n):     # Define the function\n",
    "    return(n*n)    # Watch out for the indentation\n",
    "\n",
    "square(16)         # Call the function"
   ]
  },
  {
   "cell_type": "markdown",
   "metadata": {},
   "source": [
    "## Default Parameter Value\n",
    "\n",
    "A set of pre-defined values can be assigned to the parameters, so that the function can be called without specified parameters."
   ]
  },
  {
   "cell_type": "code",
   "execution_count": 2,
   "metadata": {},
   "outputs": [
    {
     "name": "stdout",
     "output_type": "stream",
     "text": [
      "I am from Sweden\n",
      "I am from India\n",
      "I am from Norway\n",
      "I am from Brazil\n"
     ]
    }
   ],
   "source": [
    "def my_function(country = \"Norway\"):\n",
    "  print(\"I am from \" + country)\n",
    "\n",
    "my_function(\"Sweden\")\n",
    "my_function(\"India\")\n",
    "my_function()\n",
    "my_function(\"Brazil\")"
   ]
  },
  {
   "cell_type": "markdown",
   "metadata": {},
   "source": [
    "# Exercise 1: Factorial\n",
    "\n",
    "In mathematics, the factorial of a non-negative integer n, denoted by n!, is the product of all positive integers less than or equal to n. For example:\n",
    "\n",
    "`5! = 5 * 4 * 3 * 2 * 1 = 120`\n",
    "\n",
    "By definition, 0! = 1. \n",
    "\n",
    "Please compose a function named `factorial`, which takes in one integer parameter and return the factorial of the integer."
   ]
  },
  {
   "cell_type": "code",
   "execution_count": 3,
   "metadata": {},
   "outputs": [],
   "source": [
    "# Please complete the following function\n",
    "def factorial(n):\n",
    "    if n<=1:\n",
    "        return(1)\n",
    "    else:\n",
    "        f = 1\n",
    "        for i in range(1, n+1):\n",
    "            f*=i\n",
    "        return(f)"
   ]
  },
  {
   "cell_type": "code",
   "execution_count": 4,
   "metadata": {},
   "outputs": [
    {
     "name": "stdout",
     "output_type": "stream",
     "text": [
      "1\n",
      "120\n",
      "1\n"
     ]
    }
   ],
   "source": [
    "# Test\n",
    "print(factorial(1))\n",
    "print(factorial(5))\n",
    "print(factorial(0))"
   ]
  },
  {
   "cell_type": "markdown",
   "metadata": {},
   "source": [
    "# Exercise 2: Combination\n",
    "\n",
    "In mathematics, a combination is a selection of items from a collection, such that the order of selection does not matter. For example, given three fruits, say an apple, an orange and a pear, there are three combinations of two that can be drawn from this set: an apple and a pear; an apple and an orange; or a pear and an orange. \n",
    "\n",
    "More formally, a **k-combination of a set S** is a subset of k distinct elements of S. If the set has n elements, the number of k-combinations is equal to the binomial coefficient.\n",
    "\n",
    "$combination(n,k) = \\frac{n(n-1)...(n-k+1)}{k(k-1)...1} = \\frac{n!}{k!(n-k)!}$\n",
    "\n",
    "Please compose a function named `combination` which takes two integer parameters and return the number of combinations. Please use the `factorial` function you just completed."
   ]
  },
  {
   "cell_type": "code",
   "execution_count": 5,
   "metadata": {},
   "outputs": [],
   "source": [
    "# Please complete the following function\n",
    "def combination(n, k):\n",
    "    if k>=n:\n",
    "        print(str(k) + ' is greater than ' + str(n))\n",
    "        return(1)\n",
    "    return(factorial(n)/factorial(k)/factorial(n-k))"
   ]
  },
  {
   "cell_type": "code",
   "execution_count": 6,
   "metadata": {},
   "outputs": [
    {
     "name": "stdout",
     "output_type": "stream",
     "text": [
      "3.0\n",
      "10.0\n"
     ]
    }
   ],
   "source": [
    "print(combination(3,2))\n",
    "print(combination(5,2))"
   ]
  },
  {
   "cell_type": "markdown",
   "metadata": {},
   "source": [
    "# Exercise 3: Lottery Time\n",
    "\n",
    "威力彩是一種樂透型遊戲，其選號分為兩區，您必須從第1個選號區中的01~38 的號碼中任選6個號碼，並從第2個選號區中的01~08的號碼中任選1個號碼進行投注，這六個+一個號碼即為您的投注號碼。\n",
    "\n",
    "頭獎：第1區六個獎號全中，且第2區亦對中獎號\n",
    "貳獎：第1區六個獎號全中，但第2區未對中\n",
    "\n",
    "Please use the `combination` function you completed earlier, to estimate the probability of winning the 1st and 2nd prize."
   ]
  },
  {
   "cell_type": "code",
   "execution_count": 7,
   "metadata": {},
   "outputs": [
    {
     "name": "stdout",
     "output_type": "stream",
     "text": [
      "The probability of winning the 1st prize:\n",
      "4.527868304958088e-08\n",
      "The probability of winning the 2nd prize:\n",
      "3.6222946439664705e-07\n"
     ]
    }
   ],
   "source": [
    "print('The probability of winning the 1st prize:')\n",
    "print(1/combination(38,6)/8)\n",
    "\n",
    "print('The probability of winning the 2nd prize:')\n",
    "print(1/combination(38,6))"
   ]
  }
 ],
 "metadata": {
  "kernelspec": {
   "display_name": "Python 3",
   "language": "python",
   "name": "python3"
  },
  "language_info": {
   "codemirror_mode": {
    "name": "ipython",
    "version": 3
   },
   "file_extension": ".py",
   "mimetype": "text/x-python",
   "name": "python",
   "nbconvert_exporter": "python",
   "pygments_lexer": "ipython3",
   "version": "3.6.8"
  }
 },
 "nbformat": 4,
 "nbformat_minor": 2
}
