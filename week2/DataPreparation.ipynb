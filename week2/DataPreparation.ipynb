{
 "cells": [
  {
   "cell_type": "code",
   "execution_count": 1,
   "metadata": {
    "slideshow": {
     "slide_type": "skip"
    }
   },
   "outputs": [],
   "source": [
    "## %matplotlib inline\n",
    "import matplotlib.pyplot as plt\n",
    "import numpy as np\n",
    "import pandas as pd"
   ]
  },
  {
   "cell_type": "markdown",
   "metadata": {
    "slideshow": {
     "slide_type": "slide"
    }
   },
   "source": [
    "# Data Preparation\n",
    "\n",
    "*Course Module: Getting and Cleaning Data*\n",
    "\n",
    "--------\n",
    "\n",
    "Ting-Shuo Yo 2018\n"
   ]
  },
  {
   "cell_type": "markdown",
   "metadata": {
    "slideshow": {
     "slide_type": "slide"
    }
   },
   "source": [
    "## 關於本課程\n",
    "\n",
    "這段課程的主題是「如何準備好分析要用的資料」，包含以下概念：\n",
    "\n",
    "- 尋找與擷取「原始資料」(raw data)\n",
    "- 「整齊資料」(Tidy data) 的原則，以及如何讓資料整齊\n",
    "- 相關的 Python 套件\n",
    "- 實際案例練習"
   ]
  },
  {
   "cell_type": "markdown",
   "metadata": {
    "slideshow": {
     "slide_type": "slide"
    }
   },
   "source": [
    "## 你期待資料的樣子\n",
    "\n",
    "<img class=center src=figures/excel.png width=80%>"
   ]
  },
  {
   "cell_type": "markdown",
   "metadata": {
    "slideshow": {
     "slide_type": "slide"
    }
   },
   "source": [
    "## 資料實際上的長相\n",
    "\n",
    "<img class=center src=figures/fastq.png width=80%/>\n",
    "\n",
    "\n",
    "[http://brianknaus.com/software/srtoolbox/s_4_1_sequence80.txt](http://brianknaus.com/software/srtoolbox/s_4_1_sequence80.txt)\n"
   ]
  },
  {
   "cell_type": "markdown",
   "metadata": {
    "slideshow": {
     "slide_type": "slide"
    }
   },
   "source": [
    "## 資料在哪裡？\n",
    "\n",
    "<img class=center src=figures/databases.png height=400/>\n",
    "\n",
    "\n",
    "[http://rickosborne.org/blog/2010/02/infographic-migrating-from-sql-to-mapreduce-with-mongodb/](http://rickosborne.org/blog/2010/02/infographic-migrating-from-sql-to-mapreduce-with-mongodb/)\n"
   ]
  },
  {
   "cell_type": "markdown",
   "metadata": {
    "slideshow": {
     "slide_type": "slide"
    }
   },
   "source": [
    "## 資料在哪裡？\n",
    "\n",
    "<img class=center src=figures/twitter.png width=80%/>\n",
    "\n",
    "[https://dev.twitter.com/docs/api/1/get/blocks/blocking](https://dev.twitter.com/docs/api/1/get/blocks/blocking)\n"
   ]
  },
  {
   "cell_type": "markdown",
   "metadata": {
    "slideshow": {
     "slide_type": "slide"
    }
   },
   "source": [
    "## 資料在哪裡？\n",
    "\n",
    "<img class=center src=figures/data_gov_tw.jpg height= 400/>\n",
    "\n",
    "[http://data.gov.tw//](http://data.gov.tw//)\n"
   ]
  },
  {
   "cell_type": "markdown",
   "metadata": {
    "slideshow": {
     "slide_type": "slide"
    }
   },
   "source": [
    "# 到哪裡去找資料？學術研究資料\n",
    "\n",
    "- 在大部分的科學研究領域，**資料**都是耗費相當的時間與金錢，經過繁複的程序才取得的，一般來說都非常寶貴，在論文發表之前，不會輕易與其他人分享。\n",
    "- 多年來，經由許多資料分析領域的研究人員的推廣，有些學者開始將已經發表過的學術研究資料公開，讓學生以及開發新研究方法的研究人員，有可以拿來做練習的資料。\n",
    "- 過去， [UCI Machine Learning Repository](https://www.kaggle.com/uciml) 收集了大量的資料集，目前則由 [Kaggle](https://www.kaggle.com/) 延續了這個任務。\n"
   ]
  },
  {
   "cell_type": "markdown",
   "metadata": {
    "slideshow": {
     "slide_type": "slide"
    }
   },
   "source": [
    "# 到哪裡去找資料？開放資料\n",
    "\n",
    "近年來的由於[開放資料](https://zh.wikipedia.org/wiki/%E9%96%8B%E6%94%BE%E8%B3%87%E6%96%99)（Open Data）的發展，各國政府也開始將部分資料公開給社會大眾使用，例如我們課程範例中的很多資料，就是從[政府開放資料平台]((http://data.gov.tw//))取得。\n",
    "\n",
    "然而，氣象資料本身有特殊的屬性，無法輕易從一般管道取得，我們介紹一些對外公開的管道。\n"
   ]
  },
  {
   "cell_type": "markdown",
   "metadata": {
    "slideshow": {
     "slide_type": "slide"
    }
   },
   "source": [
    "## Where to Get Reanalysis Data\n",
    "\n",
    "- [ECMWF Datasets](https://www.ecmwf.int/en/forecasts/datasets)\n",
    "- [NCEP / NCAR Reanalysis](https://www.esrl.noaa.gov/psd/data/gridded/data.ncep.reanalysis.html)\n",
    "\n"
   ]
  },
  {
   "cell_type": "markdown",
   "metadata": {
    "slideshow": {
     "slide_type": "slide"
    }
   },
   "source": [
    "## Where to Get Satellite Data\n",
    "\n",
    "1. [USGS Earth Explorer](https://earthexplorer.usgs.gov/)\n",
    "2. [ESA’s Sentinel Mission](https://scihub.copernicus.eu/dhus/#/home)\n",
    "3. [NOAA CLASS](https://www.bou.class.noaa.gov/saa/products/welcome;jsessionid=844EEAC02233CDC6D6054BE24A9499B7)\n",
    "4. [NASA Reverb](https://search.earthdata.nasa.gov/search)\n",
    "\n",
    "### [15 Free Satellite Imagery Data Sources](https://gisgeography.com/free-satellite-imagery-data-list/)"
   ]
  },
  {
   "cell_type": "markdown",
   "metadata": {
    "slideshow": {
     "slide_type": "slide"
    }
   },
   "source": [
    "## Where to Get Sounding Data\n",
    "\n",
    "- [Atmospheric Soundings Archive from University of Wyoming](http://weather.uwyo.edu/upperair/sounding.html)\n",
    "- [NOAA Integrated Global RadioSonde Archive(IGRA)](https://www.ncdc.noaa.gov/data-access/weather-balloon/integrated-global-radiosonde-archive)\n",
    "- [中央氣象局](https://www.cwb.gov.tw/V7/station/graph.htm) (plot only, no raw data provided.)"
   ]
  },
  {
   "cell_type": "markdown",
   "metadata": {
    "slideshow": {
     "slide_type": "slide"
    }
   },
   "source": [
    "## 課程目標\n",
    "\n",
    "**原始資料** -> **資料處理** -> **整齊資料**</rt> -> 資料分析 -> 資料溝通\n"
   ]
  },
  {
   "cell_type": "markdown",
   "metadata": {
    "slideshow": {
     "slide_type": "slide"
    }
   },
   "source": [
    "# 原始資料與整齊資料"
   ]
  },
  {
   "cell_type": "markdown",
   "metadata": {
    "slideshow": {
     "slide_type": "slide"
    }
   },
   "source": [
    "## 資料的定義\n",
    "\n",
    "<q>資料是以數值的方式呈現，用來描述特定對象的性質或數量</q>\n",
    "\n",
    "_Data are values of qualitative or quantitative variables, belonging to a set of items._\n",
    "\n",
    "[http://en.wikipedia.org/wiki/Data](http://en.wikipedia.org/wiki/Data)\n"
   ]
  },
  {
   "cell_type": "markdown",
   "metadata": {
    "slideshow": {
     "slide_type": "slide"
    }
   },
   "source": [
    "## 資料的定義\n",
    "\n",
    "<q>資料是以數值的方式呈現，用來描述特定對象的性質或數量</q>\n",
    "\n",
    "<q>Data are values of qualitative or quantitative variables, belonging to a <font color='red'>set of items</font>.</q>\n",
    "\n",
    "[http://en.wikipedia.org/wiki/Data](http://en.wikipedia.org/wiki/Data)\n",
    "\n",
    "__Set of items__: Sometimes called the population; the set of objects you are interested in\n"
   ]
  },
  {
   "cell_type": "markdown",
   "metadata": {
    "slideshow": {
     "slide_type": "slide"
    }
   },
   "source": [
    "## 資料的定義\n",
    "\n",
    "<q>資料是以數值的方式呈現，用來描述特定對象的性質或數量</q>\n",
    "\n",
    "<q>Data are values of <font color=red>qualitative</font> or <font color=red>quantitative</font> variables, belonging to a set of items.</q>\n",
    "\n",
    "[http://en.wikipedia.org/wiki/Data](http://en.wikipedia.org/wiki/Data)\n",
    "\n",
    "__Qualitative__: Country of origin, sex, treatment\n",
    "\n",
    "__Quantitative__: Height, weight, blood pressure"
   ]
  },
  {
   "cell_type": "markdown",
   "metadata": {
    "slideshow": {
     "slide_type": "slide"
    }
   },
   "source": [
    "## 原始資料與整齊資料\n",
    "\n",
    "__原始資料__\n",
    "\n",
    "* 資料的原始型態\n",
    "* 通常很難直接拿來分析\n",
    "* 資料分析包括「清理與處理」\n",
    "* 原始資料可能只需要處理一次\n",
    "\n",
    "[http://en.wikipedia.org/wiki/Raw_data](http://en.wikipedia.org/wiki/Raw_data)\n"
   ]
  },
  {
   "cell_type": "markdown",
   "metadata": {
    "slideshow": {
     "slide_type": "slide"
    }
   },
   "source": [
    "## 原始資料與整齊資料\n",
    "\n",
    "__整齊資料__\n",
    "\n",
    "* 可以直接用於分析的資料\n",
    "* 處理的步驟可能包括合併、分割、轉換等等\n",
    "* 資料的處理可能需要符合固定的標準\n",
    "* 資料處理的每一道程序最好都記錄下來\n",
    "\n",
    "[http://en.wikipedia.org/wiki/Computer_data_processing](http://en.wikipedia.org/wiki/Computer_data_processing)\n"
   ]
  },
  {
   "cell_type": "markdown",
   "metadata": {
    "slideshow": {
     "slide_type": "slide"
    }
   },
   "source": [
    "## 常用的資料整理技巧\n",
    "\n",
    "* 資料分割（Subseting）\n",
    "* 資料排序（Sorting）\n",
    "* 增加新變項（Creating new variables）\n",
    "* 資料摘要（Summarizing）\n",
    "* 資料重整（Reshaping data）\n",
    "* 資料合併（Merging data）\n",
    "\n",
    "主要使用到的套件：*NumPy* and *Pandas*"
   ]
  },
  {
   "cell_type": "markdown",
   "metadata": {
    "slideshow": {
     "slide_type": "slide"
    }
   },
   "source": [
    "# 資料分割（Subseting）\n",
    "\n",
    "讓我們先隨機產生一些資料："
   ]
  },
  {
   "cell_type": "code",
   "execution_count": 2,
   "metadata": {
    "slideshow": {
     "slide_type": "-"
    }
   },
   "outputs": [
    {
     "data": {
      "text/html": [
       "<div>\n",
       "<style scoped>\n",
       "    .dataframe tbody tr th:only-of-type {\n",
       "        vertical-align: middle;\n",
       "    }\n",
       "\n",
       "    .dataframe tbody tr th {\n",
       "        vertical-align: top;\n",
       "    }\n",
       "\n",
       "    .dataframe thead th {\n",
       "        text-align: right;\n",
       "    }\n",
       "</style>\n",
       "<table border=\"1\" class=\"dataframe\">\n",
       "  <thead>\n",
       "    <tr style=\"text-align: right;\">\n",
       "      <th></th>\n",
       "      <th>var1</th>\n",
       "      <th>var2</th>\n",
       "      <th>var3</th>\n",
       "    </tr>\n",
       "  </thead>\n",
       "  <tbody>\n",
       "    <tr>\n",
       "      <th>1</th>\n",
       "      <td>0</td>\n",
       "      <td>NaN</td>\n",
       "      <td>14</td>\n",
       "    </tr>\n",
       "    <tr>\n",
       "      <th>2</th>\n",
       "      <td>4</td>\n",
       "      <td>5.0</td>\n",
       "      <td>10</td>\n",
       "    </tr>\n",
       "    <tr>\n",
       "      <th>3</th>\n",
       "      <td>3</td>\n",
       "      <td>NaN</td>\n",
       "      <td>13</td>\n",
       "    </tr>\n",
       "    <tr>\n",
       "      <th>4</th>\n",
       "      <td>1</td>\n",
       "      <td>6.0</td>\n",
       "      <td>11</td>\n",
       "    </tr>\n",
       "    <tr>\n",
       "      <th>5</th>\n",
       "      <td>2</td>\n",
       "      <td>9.0</td>\n",
       "      <td>12</td>\n",
       "    </tr>\n",
       "  </tbody>\n",
       "</table>\n",
       "</div>"
      ],
      "text/plain": [
       "   var1  var2  var3\n",
       "1     0   NaN    14\n",
       "2     4   5.0    10\n",
       "3     3   NaN    13\n",
       "4     1   6.0    11\n",
       "5     2   9.0    12"
      ]
     },
     "execution_count": 2,
     "metadata": {},
     "output_type": "execute_result"
    }
   ],
   "source": [
    "np.random.seed(12345)\n",
    "X = pd.DataFrame({'var1':np.random.permutation(5), \n",
    "                  'var2':np.random.permutation(5)+5, \n",
    "                  'var3':np.random.permutation(5)+10}, index=range(1,6))\n",
    "X.iloc[0:3:2, 1] = None\n",
    "X\n"
   ]
  },
  {
   "cell_type": "markdown",
   "metadata": {
    "slideshow": {
     "slide_type": "slide"
    }
   },
   "source": [
    "## 資料分割\n",
    "\n",
    "先來複習一下 `pandas.DataFrame` 的 indexing"
   ]
  },
  {
   "cell_type": "code",
   "execution_count": 3,
   "metadata": {},
   "outputs": [
    {
     "data": {
      "text/plain": [
       "1    0\n",
       "2    4\n",
       "3    3\n",
       "4    1\n",
       "5    2\n",
       "Name: var1, dtype: int64"
      ]
     },
     "execution_count": 3,
     "metadata": {},
     "output_type": "execute_result"
    }
   ],
   "source": [
    "X.iloc[:,0]"
   ]
  },
  {
   "cell_type": "code",
   "execution_count": 4,
   "metadata": {},
   "outputs": [
    {
     "data": {
      "text/plain": [
       "1    NaN\n",
       "2    5.0\n",
       "3    NaN\n",
       "Name: var2, dtype: float64"
      ]
     },
     "execution_count": 4,
     "metadata": {},
     "output_type": "execute_result"
    }
   ],
   "source": [
    "X.loc[0:3,'var2']"
   ]
  },
  {
   "cell_type": "code",
   "execution_count": 5,
   "metadata": {},
   "outputs": [
    {
     "data": {
      "text/plain": [
       "1    NaN\n",
       "2    5.0\n",
       "3    NaN\n",
       "Name: var2, dtype: float64"
      ]
     },
     "execution_count": 5,
     "metadata": {},
     "output_type": "execute_result"
    }
   ],
   "source": [
    "X['var2'][0:3]"
   ]
  },
  {
   "cell_type": "markdown",
   "metadata": {
    "slideshow": {
     "slide_type": "slide"
    }
   },
   "source": [
    "## 資料分割\n",
    "\n",
    "之前的課程也示範過 `pandas.DataFrame` 的篩選"
   ]
  },
  {
   "cell_type": "code",
   "execution_count": 6,
   "metadata": {},
   "outputs": [
    {
     "name": "stdout",
     "output_type": "stream",
     "text": [
      "Average depth of strong earthquake: 17.277977528089878\n",
      "Average depth of weak earthquake: 11.020958083832339\n"
     ]
    },
    {
     "data": {
      "text/plain": [
       "6.257019444257539"
      ]
     },
     "execution_count": 6,
     "metadata": {},
     "output_type": "execute_result"
    }
   ],
   "source": [
    "data = pd.read_csv('../data/cwb_earthquake_20181101.csv')\n",
    "mean_strength = data['規模'].mean()\n",
    "depth_above_average = data.loc[data['規模']>mean_strength, '深度'].mean()\n",
    "depth_bellow_average = data.loc[data['規模']<=mean_strength, '深度'].mean()\n",
    "print(\"Average depth of strong earthquake: \" + str(depth_above_average))\n",
    "print(\"Average depth of weak earthquake: \" + str(depth_bellow_average))\n",
    "depth_above_average - depth_bellow_average"
   ]
  },
  {
   "cell_type": "markdown",
   "metadata": {
    "slideshow": {
     "slide_type": "slide"
    }
   },
   "source": [
    "## 使用 *and* and *or* 來組合篩選條件\n",
    "\n",
    "資料的篩選也可以透過多個條件的組合，主要是以 `set` 的邏輯運算來進行："
   ]
  },
  {
   "cell_type": "code",
   "execution_count": 7,
   "metadata": {},
   "outputs": [
    {
     "data": {
      "text/html": [
       "<div>\n",
       "<style scoped>\n",
       "    .dataframe tbody tr th:only-of-type {\n",
       "        vertical-align: middle;\n",
       "    }\n",
       "\n",
       "    .dataframe tbody tr th {\n",
       "        vertical-align: top;\n",
       "    }\n",
       "\n",
       "    .dataframe thead th {\n",
       "        text-align: right;\n",
       "    }\n",
       "</style>\n",
       "<table border=\"1\" class=\"dataframe\">\n",
       "  <thead>\n",
       "    <tr style=\"text-align: right;\">\n",
       "      <th></th>\n",
       "      <th>編號</th>\n",
       "      <th>地震時間</th>\n",
       "      <th>經度</th>\n",
       "      <th>緯度</th>\n",
       "      <th>深度</th>\n",
       "      <th>規模</th>\n",
       "      <th>震央位置</th>\n",
       "    </tr>\n",
       "  </thead>\n",
       "  <tbody>\n",
       "    <tr>\n",
       "      <th>611</th>\n",
       "      <td>048</td>\n",
       "      <td>2018/2/7 下午 11:21:00</td>\n",
       "      <td>121.78</td>\n",
       "      <td>24.08</td>\n",
       "      <td>7.8</td>\n",
       "      <td>5.8</td>\n",
       "      <td>花蓮縣政府東偏北方  18.9  公里 (位於臺灣東部海域)</td>\n",
       "    </tr>\n",
       "    <tr>\n",
       "      <th>617</th>\n",
       "      <td>小區域</td>\n",
       "      <td>2018/2/7 下午 09:06:00</td>\n",
       "      <td>121.77</td>\n",
       "      <td>24.08</td>\n",
       "      <td>7.2</td>\n",
       "      <td>5.1</td>\n",
       "      <td>花蓮縣政府東偏北方  18.2  公里 (位於臺灣東部海域)</td>\n",
       "    </tr>\n",
       "    <tr>\n",
       "      <th>656</th>\n",
       "      <td>039</td>\n",
       "      <td>2018/2/7 上午 11:36:00</td>\n",
       "      <td>121.74</td>\n",
       "      <td>24.08</td>\n",
       "      <td>7.4</td>\n",
       "      <td>5.1</td>\n",
       "      <td>花蓮縣政府東北方  15.6  公里 (位於臺灣東部海域)</td>\n",
       "    </tr>\n",
       "    <tr>\n",
       "      <th>725</th>\n",
       "      <td>031</td>\n",
       "      <td>2018/2/7 上午 03:15:00</td>\n",
       "      <td>121.73</td>\n",
       "      <td>24.01</td>\n",
       "      <td>5.7</td>\n",
       "      <td>5.4</td>\n",
       "      <td>花蓮縣政府東方  11.1  公里 (位於花蓮縣近海)</td>\n",
       "    </tr>\n",
       "    <tr>\n",
       "      <th>742</th>\n",
       "      <td>029</td>\n",
       "      <td>2018/2/7 上午 02:07:00</td>\n",
       "      <td>121.71</td>\n",
       "      <td>24.04</td>\n",
       "      <td>4.2</td>\n",
       "      <td>5.3</td>\n",
       "      <td>花蓮縣政府東偏北方  10.6  公里 (位於花蓮縣近海)</td>\n",
       "    </tr>\n",
       "    <tr>\n",
       "      <th>745</th>\n",
       "      <td>028</td>\n",
       "      <td>2018/2/7 上午 02:00:00</td>\n",
       "      <td>121.73</td>\n",
       "      <td>24.12</td>\n",
       "      <td>6.7</td>\n",
       "      <td>5.3</td>\n",
       "      <td>花蓮縣政府東北方  17.7  公里 (位於花蓮縣近海)</td>\n",
       "    </tr>\n",
       "    <tr>\n",
       "      <th>799</th>\n",
       "      <td>022</td>\n",
       "      <td>2018/2/6 下午 11:50:00</td>\n",
       "      <td>121.73</td>\n",
       "      <td>24.10</td>\n",
       "      <td>6.3</td>\n",
       "      <td>6.2</td>\n",
       "      <td>花蓮縣政府東北方  16.5  公里 (位於臺灣東部海域)</td>\n",
       "    </tr>\n",
       "    <tr>\n",
       "      <th>893</th>\n",
       "      <td>006</td>\n",
       "      <td>2018/2/4 下午 09:12:00</td>\n",
       "      <td>121.70</td>\n",
       "      <td>24.21</td>\n",
       "      <td>3.0</td>\n",
       "      <td>5.3</td>\n",
       "      <td>花蓮縣政府北偏東方  25.1  公里 (位於花蓮縣近海)</td>\n",
       "    </tr>\n",
       "  </tbody>\n",
       "</table>\n",
       "</div>"
      ],
      "text/plain": [
       "         編號                  地震時間      經度     緯度   深度   規模  \\\n",
       "611  048     2018/2/7 下午 11:21:00  121.78  24.08  7.8  5.8   \n",
       "617     小區域  2018/2/7 下午 09:06:00  121.77  24.08  7.2  5.1   \n",
       "656  039     2018/2/7 上午 11:36:00  121.74  24.08  7.4  5.1   \n",
       "725  031     2018/2/7 上午 03:15:00  121.73  24.01  5.7  5.4   \n",
       "742  029     2018/2/7 上午 02:07:00  121.71  24.04  4.2  5.3   \n",
       "745  028     2018/2/7 上午 02:00:00  121.73  24.12  6.7  5.3   \n",
       "799  022     2018/2/6 下午 11:50:00  121.73  24.10  6.3  6.2   \n",
       "893  006     2018/2/4 下午 09:12:00  121.70  24.21  3.0  5.3   \n",
       "\n",
       "                               震央位置  \n",
       "611  花蓮縣政府東偏北方  18.9  公里 (位於臺灣東部海域)  \n",
       "617  花蓮縣政府東偏北方  18.2  公里 (位於臺灣東部海域)  \n",
       "656   花蓮縣政府東北方  15.6  公里 (位於臺灣東部海域)  \n",
       "725     花蓮縣政府東方  11.1  公里 (位於花蓮縣近海)  \n",
       "742   花蓮縣政府東偏北方  10.6  公里 (位於花蓮縣近海)  \n",
       "745    花蓮縣政府東北方  17.7  公里 (位於花蓮縣近海)  \n",
       "799   花蓮縣政府東北方  16.5  公里 (位於臺灣東部海域)  \n",
       "893   花蓮縣政府北偏東方  25.1  公里 (位於花蓮縣近海)  "
      ]
     },
     "execution_count": 7,
     "metadata": {},
     "output_type": "execute_result"
    }
   ],
   "source": [
    "data[(data['規模']>5) & (data['深度']<8)]"
   ]
  },
  {
   "cell_type": "markdown",
   "metadata": {
    "slideshow": {
     "slide_type": "slide"
    }
   },
   "source": [
    "## 透過 pandas.DataFrame 選取資料\n",
    "\n",
    "從前面的例子我們可以看到，pandas.DataFrame 提供了多種選擇資料的方式，顯得有點令人混淆。例如，我們可以直接用數字來選取某一筆資料，像是`data[1]`；或是範圍式的選取，例如：`data[1:3]`，這樣的選取方式使用了 Python 預設的 list operation。"
   ]
  },
  {
   "cell_type": "code",
   "execution_count": 8,
   "metadata": {},
   "outputs": [
    {
     "data": {
      "text/plain": [
       "1    a\n",
       "3    b\n",
       "5    c\n",
       "dtype: object"
      ]
     },
     "execution_count": 8,
     "metadata": {},
     "output_type": "execute_result"
    }
   ],
   "source": [
    "data = pd.Series(['a', 'b', 'c'], index=[1, 3, 5])\n",
    "data"
   ]
  },
  {
   "cell_type": "code",
   "execution_count": 9,
   "metadata": {},
   "outputs": [
    {
     "data": {
      "text/plain": [
       "'a'"
      ]
     },
     "execution_count": 9,
     "metadata": {},
     "output_type": "execute_result"
    }
   ],
   "source": [
    "# explicit index when indexing\n",
    "data[1]"
   ]
  },
  {
   "cell_type": "code",
   "execution_count": 10,
   "metadata": {},
   "outputs": [
    {
     "data": {
      "text/plain": [
       "3    b\n",
       "5    c\n",
       "dtype: object"
      ]
     },
     "execution_count": 10,
     "metadata": {},
     "output_type": "execute_result"
    }
   ],
   "source": [
    "# implicit index when slicing\n",
    "data[1:3]"
   ]
  },
  {
   "cell_type": "markdown",
   "metadata": {
    "slideshow": {
     "slide_type": "slide"
    }
   },
   "source": [
    "## 選取資料: loc\n",
    "\n",
    "由上面的例子裡，我們可以看到用「整數」當做行列指標潛在的問題：當行列本身的標籤也是整數時，會造成混淆。因此，pandas 提供了一些額外的資料選擇方式: `loc`, `iloc`。\n",
    "\n",
    "我們首先介紹的是 `loc`，凡是透過這個方法選擇的，一律參考資料列的標籤："
   ]
  },
  {
   "cell_type": "code",
   "execution_count": 11,
   "metadata": {},
   "outputs": [
    {
     "data": {
      "text/plain": [
       "'a'"
      ]
     },
     "execution_count": 11,
     "metadata": {},
     "output_type": "execute_result"
    }
   ],
   "source": [
    "data.loc[1]"
   ]
  },
  {
   "cell_type": "code",
   "execution_count": 12,
   "metadata": {},
   "outputs": [
    {
     "data": {
      "text/plain": [
       "1    a\n",
       "3    b\n",
       "dtype: object"
      ]
     },
     "execution_count": 12,
     "metadata": {},
     "output_type": "execute_result"
    }
   ],
   "source": [
    "data.loc[1:3]"
   ]
  },
  {
   "cell_type": "markdown",
   "metadata": {
    "slideshow": {
     "slide_type": "slide"
    }
   },
   "source": [
    "## 選取資料: iloc\n",
    "\n",
    "第二種是 pandas.DataFrame 的 `iloc` 函數，則是一律使用 python list 的預設選擇方式："
   ]
  },
  {
   "cell_type": "code",
   "execution_count": 13,
   "metadata": {},
   "outputs": [
    {
     "data": {
      "text/plain": [
       "'b'"
      ]
     },
     "execution_count": 13,
     "metadata": {},
     "output_type": "execute_result"
    }
   ],
   "source": [
    "data.iloc[1]"
   ]
  },
  {
   "cell_type": "code",
   "execution_count": 14,
   "metadata": {},
   "outputs": [
    {
     "data": {
      "text/plain": [
       "3    b\n",
       "5    c\n",
       "dtype: object"
      ]
     },
     "execution_count": 14,
     "metadata": {},
     "output_type": "execute_result"
    }
   ],
   "source": [
    "data.iloc[1:3]"
   ]
  },
  {
   "cell_type": "markdown",
   "metadata": {
    "slideshow": {
     "slide_type": "slide"
    }
   },
   "source": [
    "# 資料排序（Sorting）\n",
    "\n",
    "資料的排序是整理資料經常用到的功能，讓我們用台灣六個直轄市的面積和人口資料做例子："
   ]
  },
  {
   "cell_type": "code",
   "execution_count": 15,
   "metadata": {},
   "outputs": [
    {
     "data": {
      "text/html": [
       "<div>\n",
       "<style scoped>\n",
       "    .dataframe tbody tr th:only-of-type {\n",
       "        vertical-align: middle;\n",
       "    }\n",
       "\n",
       "    .dataframe tbody tr th {\n",
       "        vertical-align: top;\n",
       "    }\n",
       "\n",
       "    .dataframe thead th {\n",
       "        text-align: right;\n",
       "    }\n",
       "</style>\n",
       "<table border=\"1\" class=\"dataframe\">\n",
       "  <thead>\n",
       "    <tr style=\"text-align: right;\">\n",
       "      <th></th>\n",
       "      <th>area</th>\n",
       "      <th>pop</th>\n",
       "    </tr>\n",
       "  </thead>\n",
       "  <tbody>\n",
       "    <tr>\n",
       "      <th>Kaohsiung City</th>\n",
       "      <td>2951.85</td>\n",
       "      <td>2778729</td>\n",
       "    </tr>\n",
       "    <tr>\n",
       "      <th>New Taipei City</th>\n",
       "      <td>2052.57</td>\n",
       "      <td>3971250</td>\n",
       "    </tr>\n",
       "    <tr>\n",
       "      <th>Taichung City</th>\n",
       "      <td>2214.90</td>\n",
       "      <td>2746112</td>\n",
       "    </tr>\n",
       "    <tr>\n",
       "      <th>Tainan City</th>\n",
       "      <td>2191.65</td>\n",
       "      <td>1885550</td>\n",
       "    </tr>\n",
       "    <tr>\n",
       "      <th>Taipei City</th>\n",
       "      <td>271.80</td>\n",
       "      <td>2704974</td>\n",
       "    </tr>\n",
       "    <tr>\n",
       "      <th>Taoyuan City</th>\n",
       "      <td>1220.83</td>\n",
       "      <td>2108786</td>\n",
       "    </tr>\n",
       "  </tbody>\n",
       "</table>\n",
       "</div>"
      ],
      "text/plain": [
       "                    area      pop\n",
       "Kaohsiung City   2951.85  2778729\n",
       "New Taipei City  2052.57  3971250\n",
       "Taichung City    2214.90  2746112\n",
       "Tainan City      2191.65  1885550\n",
       "Taipei City       271.80  2704974\n",
       "Taoyuan City     1220.83  2108786"
      ]
     },
     "execution_count": 15,
     "metadata": {},
     "output_type": "execute_result"
    }
   ],
   "source": [
    "area = pd.Series({'Kaohsiung City': 2951.85, 'New Taipei City': 2052.57,\n",
    "                  'Taichung City': 2214.90, 'Tainan City': 2191.65,\n",
    "                  'Taipei City': 271.80, 'Taoyuan City': 1220.83})\n",
    "pop = pd.Series({'Kaohsiung City': 2778729, 'New Taipei City': 3971250,\n",
    "                 'Taichung City': 2746112, 'Tainan City': 1885550,\n",
    "                 'Taipei City': 2704974, 'Taoyuan City': 2108786})\n",
    "citydata = pd.DataFrame({'area':area, 'pop':pop})\n",
    "citydata"
   ]
  },
  {
   "cell_type": "markdown",
   "metadata": {
    "slideshow": {
     "slide_type": "slide"
    }
   },
   "source": [
    "## Sorting with Pandas\n",
    "\n",
    "*pandas* 提供了兩種基本的排序工具：\n",
    "\n",
    "1. **`sort_values()`**: 依據某個欄位的值排序\n",
    "2. **`sort_index()`**: 依據數據及的列名稱排序"
   ]
  },
  {
   "cell_type": "code",
   "execution_count": 16,
   "metadata": {},
   "outputs": [
    {
     "data": {
      "text/html": [
       "<div>\n",
       "<style scoped>\n",
       "    .dataframe tbody tr th:only-of-type {\n",
       "        vertical-align: middle;\n",
       "    }\n",
       "\n",
       "    .dataframe tbody tr th {\n",
       "        vertical-align: top;\n",
       "    }\n",
       "\n",
       "    .dataframe thead th {\n",
       "        text-align: right;\n",
       "    }\n",
       "</style>\n",
       "<table border=\"1\" class=\"dataframe\">\n",
       "  <thead>\n",
       "    <tr style=\"text-align: right;\">\n",
       "      <th></th>\n",
       "      <th>area</th>\n",
       "      <th>pop</th>\n",
       "    </tr>\n",
       "  </thead>\n",
       "  <tbody>\n",
       "    <tr>\n",
       "      <th>Kaohsiung City</th>\n",
       "      <td>2951.85</td>\n",
       "      <td>2778729</td>\n",
       "    </tr>\n",
       "    <tr>\n",
       "      <th>New Taipei City</th>\n",
       "      <td>2052.57</td>\n",
       "      <td>3971250</td>\n",
       "    </tr>\n",
       "    <tr>\n",
       "      <th>Taichung City</th>\n",
       "      <td>2214.90</td>\n",
       "      <td>2746112</td>\n",
       "    </tr>\n",
       "    <tr>\n",
       "      <th>Tainan City</th>\n",
       "      <td>2191.65</td>\n",
       "      <td>1885550</td>\n",
       "    </tr>\n",
       "    <tr>\n",
       "      <th>Taipei City</th>\n",
       "      <td>271.80</td>\n",
       "      <td>2704974</td>\n",
       "    </tr>\n",
       "    <tr>\n",
       "      <th>Taoyuan City</th>\n",
       "      <td>1220.83</td>\n",
       "      <td>2108786</td>\n",
       "    </tr>\n",
       "  </tbody>\n",
       "</table>\n",
       "</div>"
      ],
      "text/plain": [
       "                    area      pop\n",
       "Kaohsiung City   2951.85  2778729\n",
       "New Taipei City  2052.57  3971250\n",
       "Taichung City    2214.90  2746112\n",
       "Tainan City      2191.65  1885550\n",
       "Taipei City       271.80  2704974\n",
       "Taoyuan City     1220.83  2108786"
      ]
     },
     "execution_count": 16,
     "metadata": {},
     "output_type": "execute_result"
    }
   ],
   "source": [
    "citydata.sort_index()"
   ]
  },
  {
   "cell_type": "markdown",
   "metadata": {
    "slideshow": {
     "slide_type": "slide"
    }
   },
   "source": [
    "## 排序預設由小到大\n"
   ]
  },
  {
   "cell_type": "code",
   "execution_count": 17,
   "metadata": {},
   "outputs": [
    {
     "data": {
      "text/html": [
       "<div>\n",
       "<style scoped>\n",
       "    .dataframe tbody tr th:only-of-type {\n",
       "        vertical-align: middle;\n",
       "    }\n",
       "\n",
       "    .dataframe tbody tr th {\n",
       "        vertical-align: top;\n",
       "    }\n",
       "\n",
       "    .dataframe thead th {\n",
       "        text-align: right;\n",
       "    }\n",
       "</style>\n",
       "<table border=\"1\" class=\"dataframe\">\n",
       "  <thead>\n",
       "    <tr style=\"text-align: right;\">\n",
       "      <th></th>\n",
       "      <th>area</th>\n",
       "      <th>pop</th>\n",
       "    </tr>\n",
       "  </thead>\n",
       "  <tbody>\n",
       "    <tr>\n",
       "      <th>Tainan City</th>\n",
       "      <td>2191.65</td>\n",
       "      <td>1885550</td>\n",
       "    </tr>\n",
       "    <tr>\n",
       "      <th>Taoyuan City</th>\n",
       "      <td>1220.83</td>\n",
       "      <td>2108786</td>\n",
       "    </tr>\n",
       "    <tr>\n",
       "      <th>Taipei City</th>\n",
       "      <td>271.80</td>\n",
       "      <td>2704974</td>\n",
       "    </tr>\n",
       "    <tr>\n",
       "      <th>Taichung City</th>\n",
       "      <td>2214.90</td>\n",
       "      <td>2746112</td>\n",
       "    </tr>\n",
       "    <tr>\n",
       "      <th>Kaohsiung City</th>\n",
       "      <td>2951.85</td>\n",
       "      <td>2778729</td>\n",
       "    </tr>\n",
       "    <tr>\n",
       "      <th>New Taipei City</th>\n",
       "      <td>2052.57</td>\n",
       "      <td>3971250</td>\n",
       "    </tr>\n",
       "  </tbody>\n",
       "</table>\n",
       "</div>"
      ],
      "text/plain": [
       "                    area      pop\n",
       "Tainan City      2191.65  1885550\n",
       "Taoyuan City     1220.83  2108786\n",
       "Taipei City       271.80  2704974\n",
       "Taichung City    2214.90  2746112\n",
       "Kaohsiung City   2951.85  2778729\n",
       "New Taipei City  2052.57  3971250"
      ]
     },
     "execution_count": 17,
     "metadata": {},
     "output_type": "execute_result"
    }
   ],
   "source": [
    "citydata.sort_values('pop')"
   ]
  },
  {
   "cell_type": "code",
   "execution_count": 18,
   "metadata": {},
   "outputs": [
    {
     "data": {
      "text/html": [
       "<div>\n",
       "<style scoped>\n",
       "    .dataframe tbody tr th:only-of-type {\n",
       "        vertical-align: middle;\n",
       "    }\n",
       "\n",
       "    .dataframe tbody tr th {\n",
       "        vertical-align: top;\n",
       "    }\n",
       "\n",
       "    .dataframe thead th {\n",
       "        text-align: right;\n",
       "    }\n",
       "</style>\n",
       "<table border=\"1\" class=\"dataframe\">\n",
       "  <thead>\n",
       "    <tr style=\"text-align: right;\">\n",
       "      <th></th>\n",
       "      <th>area</th>\n",
       "      <th>pop</th>\n",
       "    </tr>\n",
       "  </thead>\n",
       "  <tbody>\n",
       "    <tr>\n",
       "      <th>Kaohsiung City</th>\n",
       "      <td>2951.85</td>\n",
       "      <td>2778729</td>\n",
       "    </tr>\n",
       "    <tr>\n",
       "      <th>Taichung City</th>\n",
       "      <td>2214.90</td>\n",
       "      <td>2746112</td>\n",
       "    </tr>\n",
       "    <tr>\n",
       "      <th>Tainan City</th>\n",
       "      <td>2191.65</td>\n",
       "      <td>1885550</td>\n",
       "    </tr>\n",
       "    <tr>\n",
       "      <th>New Taipei City</th>\n",
       "      <td>2052.57</td>\n",
       "      <td>3971250</td>\n",
       "    </tr>\n",
       "    <tr>\n",
       "      <th>Taoyuan City</th>\n",
       "      <td>1220.83</td>\n",
       "      <td>2108786</td>\n",
       "    </tr>\n",
       "    <tr>\n",
       "      <th>Taipei City</th>\n",
       "      <td>271.80</td>\n",
       "      <td>2704974</td>\n",
       "    </tr>\n",
       "  </tbody>\n",
       "</table>\n",
       "</div>"
      ],
      "text/plain": [
       "                    area      pop\n",
       "Kaohsiung City   2951.85  2778729\n",
       "Taichung City    2214.90  2746112\n",
       "Tainan City      2191.65  1885550\n",
       "New Taipei City  2052.57  3971250\n",
       "Taoyuan City     1220.83  2108786\n",
       "Taipei City       271.80  2704974"
      ]
     },
     "execution_count": 18,
     "metadata": {},
     "output_type": "execute_result"
    }
   ],
   "source": [
    "citydata.sort_values('area',ascending=False)"
   ]
  },
  {
   "cell_type": "markdown",
   "metadata": {
    "slideshow": {
     "slide_type": "slide"
    }
   },
   "source": [
    "# 產生新資料變項\n",
    "\n",
    "## 資料還不夠多嗎？為什麼要產生新資料變項？\n",
    "\n",
    "* 通常原始資料並不包含我們想分析的變項（例如：「氣象參數」與「特定天氣事件」）\n",
    "* 我們需要透過一些計算或轉換，算出我們感興趣的變項\n",
    "* 一般來說，我們會把新變項加到原本分析的 DataFrame 裡\n",
    "* 常見的新增變項：\n",
    "  * 遺失值指標\n",
    "  * 把連續數字轉換成類別\n",
    "  * 轉換函數"
   ]
  },
  {
   "cell_type": "markdown",
   "metadata": {
    "slideshow": {
     "slide_type": "slide"
    }
   },
   "source": [
    "## 產生新變數\n",
    "\n",
    "例如，前面用到的台灣六個直轄市的面積和人口資料，我們真正感興趣的是「人口密度」。我們知道：\n",
    "\n",
    "        人口密度 ＝ 總人口 / 總面積\n",
    "\n",
    "但是要怎麼加進原本的資料集裡呢？"
   ]
  },
  {
   "cell_type": "code",
   "execution_count": 19,
   "metadata": {},
   "outputs": [
    {
     "data": {
      "text/html": [
       "<div>\n",
       "<style scoped>\n",
       "    .dataframe tbody tr th:only-of-type {\n",
       "        vertical-align: middle;\n",
       "    }\n",
       "\n",
       "    .dataframe tbody tr th {\n",
       "        vertical-align: top;\n",
       "    }\n",
       "\n",
       "    .dataframe thead th {\n",
       "        text-align: right;\n",
       "    }\n",
       "</style>\n",
       "<table border=\"1\" class=\"dataframe\">\n",
       "  <thead>\n",
       "    <tr style=\"text-align: right;\">\n",
       "      <th></th>\n",
       "      <th>area</th>\n",
       "      <th>pop</th>\n",
       "      <th>density</th>\n",
       "    </tr>\n",
       "  </thead>\n",
       "  <tbody>\n",
       "    <tr>\n",
       "      <th>Taipei City</th>\n",
       "      <td>271.80</td>\n",
       "      <td>2704974</td>\n",
       "      <td>9952.075055</td>\n",
       "    </tr>\n",
       "    <tr>\n",
       "      <th>New Taipei City</th>\n",
       "      <td>2052.57</td>\n",
       "      <td>3971250</td>\n",
       "      <td>1934.769582</td>\n",
       "    </tr>\n",
       "    <tr>\n",
       "      <th>Taoyuan City</th>\n",
       "      <td>1220.83</td>\n",
       "      <td>2108786</td>\n",
       "      <td>1727.337959</td>\n",
       "    </tr>\n",
       "    <tr>\n",
       "      <th>Taichung City</th>\n",
       "      <td>2214.90</td>\n",
       "      <td>2746112</td>\n",
       "      <td>1239.835658</td>\n",
       "    </tr>\n",
       "    <tr>\n",
       "      <th>Kaohsiung City</th>\n",
       "      <td>2951.85</td>\n",
       "      <td>2778729</td>\n",
       "      <td>941.351695</td>\n",
       "    </tr>\n",
       "    <tr>\n",
       "      <th>Tainan City</th>\n",
       "      <td>2191.65</td>\n",
       "      <td>1885550</td>\n",
       "      <td>860.333539</td>\n",
       "    </tr>\n",
       "  </tbody>\n",
       "</table>\n",
       "</div>"
      ],
      "text/plain": [
       "                    area      pop      density\n",
       "Taipei City       271.80  2704974  9952.075055\n",
       "New Taipei City  2052.57  3971250  1934.769582\n",
       "Taoyuan City     1220.83  2108786  1727.337959\n",
       "Taichung City    2214.90  2746112  1239.835658\n",
       "Kaohsiung City   2951.85  2778729   941.351695\n",
       "Tainan City      2191.65  1885550   860.333539"
      ]
     },
     "execution_count": 19,
     "metadata": {},
     "output_type": "execute_result"
    }
   ],
   "source": [
    "citydata['density'] = citydata['pop'] / citydata['area']\n",
    "citydata.sort_values('density',ascending=False)"
   ]
  },
  {
   "cell_type": "markdown",
   "metadata": {
    "slideshow": {
     "slide_type": "slide"
    }
   },
   "source": [
    "## 範例：2018年9月的公司登記清冊\n",
    "\n",
    "讓我們用一組新的資料來做示範。我們到[政府開放資料平台](https://data.gov.tw/)下載2018年9月的[公司設立登記清冊](https://data.gov.tw/dataset/6047)。\n",
    "\n",
    "`pandas.DataFrame.head()` 會列出資料集的前五筆資料。"
   ]
  },
  {
   "cell_type": "code",
   "execution_count": 20,
   "metadata": {},
   "outputs": [
    {
     "data": {
      "text/html": [
       "<div>\n",
       "<style scoped>\n",
       "    .dataframe tbody tr th:only-of-type {\n",
       "        vertical-align: middle;\n",
       "    }\n",
       "\n",
       "    .dataframe tbody tr th {\n",
       "        vertical-align: top;\n",
       "    }\n",
       "\n",
       "    .dataframe thead th {\n",
       "        text-align: right;\n",
       "    }\n",
       "</style>\n",
       "<table border=\"1\" class=\"dataframe\">\n",
       "  <thead>\n",
       "    <tr style=\"text-align: right;\">\n",
       "      <th></th>\n",
       "      <th>序號</th>\n",
       "      <th>統一編號</th>\n",
       "      <th>公司名稱</th>\n",
       "      <th>公司所在地</th>\n",
       "      <th>代表人</th>\n",
       "      <th>資本額</th>\n",
       "      <th>核准設立日期</th>\n",
       "    </tr>\n",
       "  </thead>\n",
       "  <tbody>\n",
       "    <tr>\n",
       "      <th>0</th>\n",
       "      <td>1</td>\n",
       "      <td>24813076</td>\n",
       "      <td>東哲投資股份有限公司</td>\n",
       "      <td>臺北市信義區信義路4段460號18樓</td>\n",
       "      <td>林志明</td>\n",
       "      <td>1382000000</td>\n",
       "      <td>1070926</td>\n",
       "    </tr>\n",
       "    <tr>\n",
       "      <th>1</th>\n",
       "      <td>2</td>\n",
       "      <td>29187412</td>\n",
       "      <td>崴得升科技有限公司</td>\n",
       "      <td>高雄市前鎮區復興四路2號四樓之1A03室</td>\n",
       "      <td>李居財</td>\n",
       "      <td>2000000</td>\n",
       "      <td>1070907</td>\n",
       "    </tr>\n",
       "    <tr>\n",
       "      <th>2</th>\n",
       "      <td>3</td>\n",
       "      <td>29187428</td>\n",
       "      <td>易傳塾科技有限公司</td>\n",
       "      <td>高雄市前鎮區復興四路20號</td>\n",
       "      <td>潘則佑</td>\n",
       "      <td>1000000</td>\n",
       "      <td>1070914</td>\n",
       "    </tr>\n",
       "    <tr>\n",
       "      <th>3</th>\n",
       "      <td>4</td>\n",
       "      <td>42519006</td>\n",
       "      <td>台灣艾貴太陽能源股份有限公司</td>\n",
       "      <td>臺北市信義區忠孝東路5段68號20樓</td>\n",
       "      <td>梁盛宇 (Sung Woo Yang)</td>\n",
       "      <td>369750000</td>\n",
       "      <td>1070927</td>\n",
       "    </tr>\n",
       "    <tr>\n",
       "      <th>4</th>\n",
       "      <td>5</td>\n",
       "      <td>42921458</td>\n",
       "      <td>鑫隆食品實業有限公司</td>\n",
       "      <td>臺南市南區再興里新慶街３號1樓</td>\n",
       "      <td>蔡鑫隆</td>\n",
       "      <td>299999</td>\n",
       "      <td>1070827</td>\n",
       "    </tr>\n",
       "  </tbody>\n",
       "</table>\n",
       "</div>"
      ],
      "text/plain": [
       "   序號      統一編號            公司名稱                 公司所在地                  代表人  \\\n",
       "0   1  24813076      東哲投資股份有限公司    臺北市信義區信義路4段460號18樓                  林志明   \n",
       "1   2  29187412       崴得升科技有限公司  高雄市前鎮區復興四路2號四樓之1A03室                  李居財   \n",
       "2   3  29187428       易傳塾科技有限公司         高雄市前鎮區復興四路20號                  潘則佑   \n",
       "3   4  42519006  台灣艾貴太陽能源股份有限公司    臺北市信義區忠孝東路5段68號20樓  梁盛宇 (Sung Woo Yang)   \n",
       "4   5  42921458      鑫隆食品實業有限公司       臺南市南區再興里新慶街３號1樓                  蔡鑫隆   \n",
       "\n",
       "          資本額   核准設立日期  \n",
       "0  1382000000  1070926  \n",
       "1     2000000  1070907  \n",
       "2     1000000  1070914  \n",
       "3   369750000  1070927  \n",
       "4      299999  1070827  "
      ]
     },
     "execution_count": 20,
     "metadata": {},
     "output_type": "execute_result"
    }
   ],
   "source": [
    "data = pd.read_csv('../data/company_registration_201809.csv')\n",
    "data.head()"
   ]
  },
  {
   "cell_type": "markdown",
   "metadata": {
    "slideshow": {
     "slide_type": "slide"
    }
   },
   "source": [
    "## 產生新變項：處理過的變數\n",
    "\n",
    "有時候原始資料並不包含我們想分析的變項，例如我們想知道的是新登記公司在各縣市的分佈，所以我們把「公司所在地」的前三個字抓出來當做行政區："
   ]
  },
  {
   "cell_type": "code",
   "execution_count": 21,
   "metadata": {},
   "outputs": [
    {
     "data": {
      "text/html": [
       "<div>\n",
       "<style scoped>\n",
       "    .dataframe tbody tr th:only-of-type {\n",
       "        vertical-align: middle;\n",
       "    }\n",
       "\n",
       "    .dataframe tbody tr th {\n",
       "        vertical-align: top;\n",
       "    }\n",
       "\n",
       "    .dataframe thead th {\n",
       "        text-align: right;\n",
       "    }\n",
       "</style>\n",
       "<table border=\"1\" class=\"dataframe\">\n",
       "  <thead>\n",
       "    <tr style=\"text-align: right;\">\n",
       "      <th></th>\n",
       "      <th>序號</th>\n",
       "      <th>統一編號</th>\n",
       "      <th>公司名稱</th>\n",
       "      <th>公司所在地</th>\n",
       "      <th>代表人</th>\n",
       "      <th>資本額</th>\n",
       "      <th>核准設立日期</th>\n",
       "      <th>city</th>\n",
       "    </tr>\n",
       "  </thead>\n",
       "  <tbody>\n",
       "    <tr>\n",
       "      <th>0</th>\n",
       "      <td>1</td>\n",
       "      <td>24813076</td>\n",
       "      <td>東哲投資股份有限公司</td>\n",
       "      <td>臺北市信義區信義路4段460號18樓</td>\n",
       "      <td>林志明</td>\n",
       "      <td>1382000000</td>\n",
       "      <td>1070926</td>\n",
       "      <td>臺北市</td>\n",
       "    </tr>\n",
       "    <tr>\n",
       "      <th>1</th>\n",
       "      <td>2</td>\n",
       "      <td>29187412</td>\n",
       "      <td>崴得升科技有限公司</td>\n",
       "      <td>高雄市前鎮區復興四路2號四樓之1A03室</td>\n",
       "      <td>李居財</td>\n",
       "      <td>2000000</td>\n",
       "      <td>1070907</td>\n",
       "      <td>高雄市</td>\n",
       "    </tr>\n",
       "    <tr>\n",
       "      <th>2</th>\n",
       "      <td>3</td>\n",
       "      <td>29187428</td>\n",
       "      <td>易傳塾科技有限公司</td>\n",
       "      <td>高雄市前鎮區復興四路20號</td>\n",
       "      <td>潘則佑</td>\n",
       "      <td>1000000</td>\n",
       "      <td>1070914</td>\n",
       "      <td>高雄市</td>\n",
       "    </tr>\n",
       "    <tr>\n",
       "      <th>3</th>\n",
       "      <td>4</td>\n",
       "      <td>42519006</td>\n",
       "      <td>台灣艾貴太陽能源股份有限公司</td>\n",
       "      <td>臺北市信義區忠孝東路5段68號20樓</td>\n",
       "      <td>梁盛宇 (Sung Woo Yang)</td>\n",
       "      <td>369750000</td>\n",
       "      <td>1070927</td>\n",
       "      <td>臺北市</td>\n",
       "    </tr>\n",
       "    <tr>\n",
       "      <th>4</th>\n",
       "      <td>5</td>\n",
       "      <td>42921458</td>\n",
       "      <td>鑫隆食品實業有限公司</td>\n",
       "      <td>臺南市南區再興里新慶街３號1樓</td>\n",
       "      <td>蔡鑫隆</td>\n",
       "      <td>299999</td>\n",
       "      <td>1070827</td>\n",
       "      <td>臺南市</td>\n",
       "    </tr>\n",
       "  </tbody>\n",
       "</table>\n",
       "</div>"
      ],
      "text/plain": [
       "   序號      統一編號            公司名稱                 公司所在地                  代表人  \\\n",
       "0   1  24813076      東哲投資股份有限公司    臺北市信義區信義路4段460號18樓                  林志明   \n",
       "1   2  29187412       崴得升科技有限公司  高雄市前鎮區復興四路2號四樓之1A03室                  李居財   \n",
       "2   3  29187428       易傳塾科技有限公司         高雄市前鎮區復興四路20號                  潘則佑   \n",
       "3   4  42519006  台灣艾貴太陽能源股份有限公司    臺北市信義區忠孝東路5段68號20樓  梁盛宇 (Sung Woo Yang)   \n",
       "4   5  42921458      鑫隆食品實業有限公司       臺南市南區再興里新慶街３號1樓                  蔡鑫隆   \n",
       "\n",
       "          資本額   核准設立日期 city  \n",
       "0  1382000000  1070926  臺北市  \n",
       "1     2000000  1070907  高雄市  \n",
       "2     1000000  1070914  高雄市  \n",
       "3   369750000  1070927  臺北市  \n",
       "4      299999  1070827  臺南市  "
      ]
     },
     "execution_count": 21,
     "metadata": {},
     "output_type": "execute_result"
    }
   ],
   "source": [
    "city = [x[:3] for x in data['公司所在地']]\n",
    "data['city'] = city\n",
    "data.head()"
   ]
  },
  {
   "cell_type": "markdown",
   "metadata": {
    "slideshow": {
     "slide_type": "slide"
    }
   },
   "source": [
    "## 產生新變項：變項的類別轉換\n",
    "\n",
    "公司的資本額可以有很多不同的數字，但是我們關心的可能只有少數類別所以可以利用 `pandas.cut`（依指定間距） 或 `pandas.qcut`（依百分等級） 來將連續變項轉換為等級變項："
   ]
  },
  {
   "cell_type": "code",
   "execution_count": 22,
   "metadata": {},
   "outputs": [
    {
     "name": "stdout",
     "output_type": "stream",
     "text": [
      "col_0                      count\n",
      "capital                         \n",
      "(-0.001, 300000.0]           880\n",
      "(300000.0, 1000000.0]       1207\n",
      "(1000000.0, 2000000.0]       265\n",
      "(2000000.0, 1382000000.0]    667\n"
     ]
    },
    {
     "data": {
      "text/html": [
       "<div>\n",
       "<style scoped>\n",
       "    .dataframe tbody tr th:only-of-type {\n",
       "        vertical-align: middle;\n",
       "    }\n",
       "\n",
       "    .dataframe tbody tr th {\n",
       "        vertical-align: top;\n",
       "    }\n",
       "\n",
       "    .dataframe thead th {\n",
       "        text-align: right;\n",
       "    }\n",
       "</style>\n",
       "<table border=\"1\" class=\"dataframe\">\n",
       "  <thead>\n",
       "    <tr style=\"text-align: right;\">\n",
       "      <th></th>\n",
       "      <th>序號</th>\n",
       "      <th>統一編號</th>\n",
       "      <th>公司名稱</th>\n",
       "      <th>公司所在地</th>\n",
       "      <th>代表人</th>\n",
       "      <th>資本額</th>\n",
       "      <th>核准設立日期</th>\n",
       "      <th>city</th>\n",
       "      <th>capital</th>\n",
       "    </tr>\n",
       "  </thead>\n",
       "  <tbody>\n",
       "    <tr>\n",
       "      <th>0</th>\n",
       "      <td>1</td>\n",
       "      <td>24813076</td>\n",
       "      <td>東哲投資股份有限公司</td>\n",
       "      <td>臺北市信義區信義路4段460號18樓</td>\n",
       "      <td>林志明</td>\n",
       "      <td>1382000000</td>\n",
       "      <td>1070926</td>\n",
       "      <td>臺北市</td>\n",
       "      <td>(2000000.0, 1382000000.0]</td>\n",
       "    </tr>\n",
       "    <tr>\n",
       "      <th>1</th>\n",
       "      <td>2</td>\n",
       "      <td>29187412</td>\n",
       "      <td>崴得升科技有限公司</td>\n",
       "      <td>高雄市前鎮區復興四路2號四樓之1A03室</td>\n",
       "      <td>李居財</td>\n",
       "      <td>2000000</td>\n",
       "      <td>1070907</td>\n",
       "      <td>高雄市</td>\n",
       "      <td>(1000000.0, 2000000.0]</td>\n",
       "    </tr>\n",
       "    <tr>\n",
       "      <th>2</th>\n",
       "      <td>3</td>\n",
       "      <td>29187428</td>\n",
       "      <td>易傳塾科技有限公司</td>\n",
       "      <td>高雄市前鎮區復興四路20號</td>\n",
       "      <td>潘則佑</td>\n",
       "      <td>1000000</td>\n",
       "      <td>1070914</td>\n",
       "      <td>高雄市</td>\n",
       "      <td>(300000.0, 1000000.0]</td>\n",
       "    </tr>\n",
       "    <tr>\n",
       "      <th>3</th>\n",
       "      <td>4</td>\n",
       "      <td>42519006</td>\n",
       "      <td>台灣艾貴太陽能源股份有限公司</td>\n",
       "      <td>臺北市信義區忠孝東路5段68號20樓</td>\n",
       "      <td>梁盛宇 (Sung Woo Yang)</td>\n",
       "      <td>369750000</td>\n",
       "      <td>1070927</td>\n",
       "      <td>臺北市</td>\n",
       "      <td>(2000000.0, 1382000000.0]</td>\n",
       "    </tr>\n",
       "    <tr>\n",
       "      <th>4</th>\n",
       "      <td>5</td>\n",
       "      <td>42921458</td>\n",
       "      <td>鑫隆食品實業有限公司</td>\n",
       "      <td>臺南市南區再興里新慶街３號1樓</td>\n",
       "      <td>蔡鑫隆</td>\n",
       "      <td>299999</td>\n",
       "      <td>1070827</td>\n",
       "      <td>臺南市</td>\n",
       "      <td>(-0.001, 300000.0]</td>\n",
       "    </tr>\n",
       "  </tbody>\n",
       "</table>\n",
       "</div>"
      ],
      "text/plain": [
       "   序號      統一編號            公司名稱                 公司所在地                  代表人  \\\n",
       "0   1  24813076      東哲投資股份有限公司    臺北市信義區信義路4段460號18樓                  林志明   \n",
       "1   2  29187412       崴得升科技有限公司  高雄市前鎮區復興四路2號四樓之1A03室                  李居財   \n",
       "2   3  29187428       易傳塾科技有限公司         高雄市前鎮區復興四路20號                  潘則佑   \n",
       "3   4  42519006  台灣艾貴太陽能源股份有限公司    臺北市信義區忠孝東路5段68號20樓  梁盛宇 (Sung Woo Yang)   \n",
       "4   5  42921458      鑫隆食品實業有限公司       臺南市南區再興里新慶街３號1樓                  蔡鑫隆   \n",
       "\n",
       "          資本額   核准設立日期 city                    capital  \n",
       "0  1382000000  1070926  臺北市  (2000000.0, 1382000000.0]  \n",
       "1     2000000  1070907  高雄市     (1000000.0, 2000000.0]  \n",
       "2     1000000  1070914  高雄市      (300000.0, 1000000.0]  \n",
       "3   369750000  1070927  臺北市  (2000000.0, 1382000000.0]  \n",
       "4      299999  1070827  臺南市         (-0.001, 300000.0]  "
      ]
     },
     "execution_count": 22,
     "metadata": {},
     "output_type": "execute_result"
    }
   ],
   "source": [
    "data['capital'] = pd.qcut(data['資本額'], q=[0, .25, .50, .75, 1.00])\n",
    "print(pd.crosstab(data['capital'], 'count'))\n",
    "data.head()"
   ]
  },
  {
   "cell_type": "markdown",
   "metadata": {
    "slideshow": {
     "slide_type": "slide"
    }
   },
   "source": [
    "以利用 `pandas.cut`（依指定間距） 或 `pandas.qcut`（依百分等級） 來將連續變項轉換為等級變項時，可以指定類別名稱，或是自動用數字當做標籤："
   ]
  },
  {
   "cell_type": "code",
   "execution_count": 23,
   "metadata": {},
   "outputs": [
    {
     "data": {
      "text/html": [
       "<div>\n",
       "<style scoped>\n",
       "    .dataframe tbody tr th:only-of-type {\n",
       "        vertical-align: middle;\n",
       "    }\n",
       "\n",
       "    .dataframe tbody tr th {\n",
       "        vertical-align: top;\n",
       "    }\n",
       "\n",
       "    .dataframe thead th {\n",
       "        text-align: right;\n",
       "    }\n",
       "</style>\n",
       "<table border=\"1\" class=\"dataframe\">\n",
       "  <thead>\n",
       "    <tr style=\"text-align: right;\">\n",
       "      <th></th>\n",
       "      <th>序號</th>\n",
       "      <th>統一編號</th>\n",
       "      <th>公司名稱</th>\n",
       "      <th>公司所在地</th>\n",
       "      <th>代表人</th>\n",
       "      <th>資本額</th>\n",
       "      <th>核准設立日期</th>\n",
       "      <th>city</th>\n",
       "      <th>capital</th>\n",
       "    </tr>\n",
       "  </thead>\n",
       "  <tbody>\n",
       "    <tr>\n",
       "      <th>0</th>\n",
       "      <td>1</td>\n",
       "      <td>24813076</td>\n",
       "      <td>東哲投資股份有限公司</td>\n",
       "      <td>臺北市信義區信義路4段460號18樓</td>\n",
       "      <td>林志明</td>\n",
       "      <td>1382000000</td>\n",
       "      <td>1070926</td>\n",
       "      <td>臺北市</td>\n",
       "      <td>3</td>\n",
       "    </tr>\n",
       "    <tr>\n",
       "      <th>1</th>\n",
       "      <td>2</td>\n",
       "      <td>29187412</td>\n",
       "      <td>崴得升科技有限公司</td>\n",
       "      <td>高雄市前鎮區復興四路2號四樓之1A03室</td>\n",
       "      <td>李居財</td>\n",
       "      <td>2000000</td>\n",
       "      <td>1070907</td>\n",
       "      <td>高雄市</td>\n",
       "      <td>2</td>\n",
       "    </tr>\n",
       "    <tr>\n",
       "      <th>2</th>\n",
       "      <td>3</td>\n",
       "      <td>29187428</td>\n",
       "      <td>易傳塾科技有限公司</td>\n",
       "      <td>高雄市前鎮區復興四路20號</td>\n",
       "      <td>潘則佑</td>\n",
       "      <td>1000000</td>\n",
       "      <td>1070914</td>\n",
       "      <td>高雄市</td>\n",
       "      <td>1</td>\n",
       "    </tr>\n",
       "    <tr>\n",
       "      <th>3</th>\n",
       "      <td>4</td>\n",
       "      <td>42519006</td>\n",
       "      <td>台灣艾貴太陽能源股份有限公司</td>\n",
       "      <td>臺北市信義區忠孝東路5段68號20樓</td>\n",
       "      <td>梁盛宇 (Sung Woo Yang)</td>\n",
       "      <td>369750000</td>\n",
       "      <td>1070927</td>\n",
       "      <td>臺北市</td>\n",
       "      <td>3</td>\n",
       "    </tr>\n",
       "    <tr>\n",
       "      <th>4</th>\n",
       "      <td>5</td>\n",
       "      <td>42921458</td>\n",
       "      <td>鑫隆食品實業有限公司</td>\n",
       "      <td>臺南市南區再興里新慶街３號1樓</td>\n",
       "      <td>蔡鑫隆</td>\n",
       "      <td>299999</td>\n",
       "      <td>1070827</td>\n",
       "      <td>臺南市</td>\n",
       "      <td>0</td>\n",
       "    </tr>\n",
       "  </tbody>\n",
       "</table>\n",
       "</div>"
      ],
      "text/plain": [
       "   序號      統一編號            公司名稱                 公司所在地                  代表人  \\\n",
       "0   1  24813076      東哲投資股份有限公司    臺北市信義區信義路4段460號18樓                  林志明   \n",
       "1   2  29187412       崴得升科技有限公司  高雄市前鎮區復興四路2號四樓之1A03室                  李居財   \n",
       "2   3  29187428       易傳塾科技有限公司         高雄市前鎮區復興四路20號                  潘則佑   \n",
       "3   4  42519006  台灣艾貴太陽能源股份有限公司    臺北市信義區忠孝東路5段68號20樓  梁盛宇 (Sung Woo Yang)   \n",
       "4   5  42921458      鑫隆食品實業有限公司       臺南市南區再興里新慶街３號1樓                  蔡鑫隆   \n",
       "\n",
       "          資本額   核准設立日期 city  capital  \n",
       "0  1382000000  1070926  臺北市        3  \n",
       "1     2000000  1070907  高雄市        2  \n",
       "2     1000000  1070914  高雄市        1  \n",
       "3   369750000  1070927  臺北市        3  \n",
       "4      299999  1070827  臺南市        0  "
      ]
     },
     "execution_count": 23,
     "metadata": {},
     "output_type": "execute_result"
    }
   ],
   "source": [
    "data['capital'] = pd.qcut(data['資本額'], q=[0, .25, .50, .75, 1.00], labels=False)\n",
    "data.head()"
   ]
  },
  {
   "cell_type": "code",
   "execution_count": 24,
   "metadata": {},
   "outputs": [
    {
     "data": {
      "text/html": [
       "<div>\n",
       "<style scoped>\n",
       "    .dataframe tbody tr th:only-of-type {\n",
       "        vertical-align: middle;\n",
       "    }\n",
       "\n",
       "    .dataframe tbody tr th {\n",
       "        vertical-align: top;\n",
       "    }\n",
       "\n",
       "    .dataframe thead th {\n",
       "        text-align: right;\n",
       "    }\n",
       "</style>\n",
       "<table border=\"1\" class=\"dataframe\">\n",
       "  <thead>\n",
       "    <tr style=\"text-align: right;\">\n",
       "      <th></th>\n",
       "      <th>序號</th>\n",
       "      <th>統一編號</th>\n",
       "      <th>公司名稱</th>\n",
       "      <th>公司所在地</th>\n",
       "      <th>代表人</th>\n",
       "      <th>資本額</th>\n",
       "      <th>核准設立日期</th>\n",
       "      <th>city</th>\n",
       "      <th>capital</th>\n",
       "    </tr>\n",
       "  </thead>\n",
       "  <tbody>\n",
       "    <tr>\n",
       "      <th>0</th>\n",
       "      <td>1</td>\n",
       "      <td>24813076</td>\n",
       "      <td>東哲投資股份有限公司</td>\n",
       "      <td>臺北市信義區信義路4段460號18樓</td>\n",
       "      <td>林志明</td>\n",
       "      <td>1382000000</td>\n",
       "      <td>1070926</td>\n",
       "      <td>臺北市</td>\n",
       "      <td>200萬以上</td>\n",
       "    </tr>\n",
       "    <tr>\n",
       "      <th>1</th>\n",
       "      <td>2</td>\n",
       "      <td>29187412</td>\n",
       "      <td>崴得升科技有限公司</td>\n",
       "      <td>高雄市前鎮區復興四路2號四樓之1A03室</td>\n",
       "      <td>李居財</td>\n",
       "      <td>2000000</td>\n",
       "      <td>1070907</td>\n",
       "      <td>高雄市</td>\n",
       "      <td>200萬以下</td>\n",
       "    </tr>\n",
       "    <tr>\n",
       "      <th>2</th>\n",
       "      <td>3</td>\n",
       "      <td>29187428</td>\n",
       "      <td>易傳塾科技有限公司</td>\n",
       "      <td>高雄市前鎮區復興四路20號</td>\n",
       "      <td>潘則佑</td>\n",
       "      <td>1000000</td>\n",
       "      <td>1070914</td>\n",
       "      <td>高雄市</td>\n",
       "      <td>100萬以下</td>\n",
       "    </tr>\n",
       "    <tr>\n",
       "      <th>3</th>\n",
       "      <td>4</td>\n",
       "      <td>42519006</td>\n",
       "      <td>台灣艾貴太陽能源股份有限公司</td>\n",
       "      <td>臺北市信義區忠孝東路5段68號20樓</td>\n",
       "      <td>梁盛宇 (Sung Woo Yang)</td>\n",
       "      <td>369750000</td>\n",
       "      <td>1070927</td>\n",
       "      <td>臺北市</td>\n",
       "      <td>200萬以上</td>\n",
       "    </tr>\n",
       "    <tr>\n",
       "      <th>4</th>\n",
       "      <td>5</td>\n",
       "      <td>42921458</td>\n",
       "      <td>鑫隆食品實業有限公司</td>\n",
       "      <td>臺南市南區再興里新慶街３號1樓</td>\n",
       "      <td>蔡鑫隆</td>\n",
       "      <td>299999</td>\n",
       "      <td>1070827</td>\n",
       "      <td>臺南市</td>\n",
       "      <td>30萬以下</td>\n",
       "    </tr>\n",
       "  </tbody>\n",
       "</table>\n",
       "</div>"
      ],
      "text/plain": [
       "   序號      統一編號            公司名稱                 公司所在地                  代表人  \\\n",
       "0   1  24813076      東哲投資股份有限公司    臺北市信義區信義路4段460號18樓                  林志明   \n",
       "1   2  29187412       崴得升科技有限公司  高雄市前鎮區復興四路2號四樓之1A03室                  李居財   \n",
       "2   3  29187428       易傳塾科技有限公司         高雄市前鎮區復興四路20號                  潘則佑   \n",
       "3   4  42519006  台灣艾貴太陽能源股份有限公司    臺北市信義區忠孝東路5段68號20樓  梁盛宇 (Sung Woo Yang)   \n",
       "4   5  42921458      鑫隆食品實業有限公司       臺南市南區再興里新慶街３號1樓                  蔡鑫隆   \n",
       "\n",
       "          資本額   核准設立日期 city capital  \n",
       "0  1382000000  1070926  臺北市  200萬以上  \n",
       "1     2000000  1070907  高雄市  200萬以下  \n",
       "2     1000000  1070914  高雄市  100萬以下  \n",
       "3   369750000  1070927  臺北市  200萬以上  \n",
       "4      299999  1070827  臺南市   30萬以下  "
      ]
     },
     "execution_count": 24,
     "metadata": {},
     "output_type": "execute_result"
    }
   ],
   "source": [
    "data['capital'] = pd.qcut(data['資本額'], q=[0, .25, .50, .75, 1.00], labels=['30萬以下','100萬以下','200萬以下','200萬以上'])\n",
    "data.head()"
   ]
  },
  {
   "cell_type": "code",
   "execution_count": 25,
   "metadata": {
    "slideshow": {
     "slide_type": "skip"
    }
   },
   "outputs": [],
   "source": [
    "company_reg_data = data"
   ]
  },
  {
   "cell_type": "markdown",
   "metadata": {
    "slideshow": {
     "slide_type": "slide"
    }
   },
   "source": [
    "## 遺失值的處理（missing values）\n",
    "\n",
    "資料遺失是極為常見的情況，pandas 當初設計的目的之一就包括了簡化遺失值處理的程序。舉例來說：pandas 提供的各個描述統計函數（平均值、標準差、百分位數...)，在計算時都會自動剔除遺失值。\n",
    "\n"
   ]
  },
  {
   "cell_type": "code",
   "execution_count": 26,
   "metadata": {},
   "outputs": [
    {
     "name": "stdout",
     "output_type": "stream",
     "text": [
      "   var1  var2  var3\n",
      "1     0   NaN    14\n",
      "2     4   5.0    10\n",
      "3     3   NaN    13\n",
      "4     1   6.0    11\n",
      "5     2   9.0    12\n"
     ]
    },
    {
     "data": {
      "text/plain": [
       "6.666666666666667"
      ]
     },
     "execution_count": 26,
     "metadata": {},
     "output_type": "execute_result"
    }
   ],
   "source": [
    "np.random.seed(12345)\n",
    "X = pd.DataFrame({'var1':np.random.permutation(5), \n",
    "                  'var2':np.random.permutation(5)+5, \n",
    "                  'var3':np.random.permutation(5)+10}, index=range(1,6))\n",
    "X.iloc[0:3:2, 1] = None\n",
    "print(X)\n",
    "X['var2'].mean()"
   ]
  },
  {
   "cell_type": "markdown",
   "metadata": {
    "slideshow": {
     "slide_type": "slide"
    }
   },
   "source": [
    "## Pandas 內建的遺失值處理工具\n",
    "\n",
    "|Argument| Description|\n",
    "|--------|------------|\n",
    "|dropna| Filter axis labels based on whether values for each label have missing data.|\n",
    "|fillna| Fill in missing data with some value or using an interpolation method such as 'ffill' or 'bfill'.|\n",
    "|isnull| Return link-type object containing boolean values indicating which values are missing / NA.|\n",
    "|notnull| Negation of isnull.|\n",
    "\n",
    "`DataFrame.dropna()` 是最簡單的遺失值處理方法：直接把有遺失值的資料列或欄位剔除。"
   ]
  },
  {
   "cell_type": "code",
   "execution_count": 27,
   "metadata": {},
   "outputs": [
    {
     "data": {
      "text/html": [
       "<div>\n",
       "<style scoped>\n",
       "    .dataframe tbody tr th:only-of-type {\n",
       "        vertical-align: middle;\n",
       "    }\n",
       "\n",
       "    .dataframe tbody tr th {\n",
       "        vertical-align: top;\n",
       "    }\n",
       "\n",
       "    .dataframe thead th {\n",
       "        text-align: right;\n",
       "    }\n",
       "</style>\n",
       "<table border=\"1\" class=\"dataframe\">\n",
       "  <thead>\n",
       "    <tr style=\"text-align: right;\">\n",
       "      <th></th>\n",
       "      <th>var1</th>\n",
       "      <th>var2</th>\n",
       "      <th>var3</th>\n",
       "    </tr>\n",
       "  </thead>\n",
       "  <tbody>\n",
       "    <tr>\n",
       "      <th>1</th>\n",
       "      <td>0</td>\n",
       "      <td>NaN</td>\n",
       "      <td>14</td>\n",
       "    </tr>\n",
       "    <tr>\n",
       "      <th>2</th>\n",
       "      <td>4</td>\n",
       "      <td>5.0</td>\n",
       "      <td>10</td>\n",
       "    </tr>\n",
       "    <tr>\n",
       "      <th>3</th>\n",
       "      <td>3</td>\n",
       "      <td>NaN</td>\n",
       "      <td>13</td>\n",
       "    </tr>\n",
       "    <tr>\n",
       "      <th>4</th>\n",
       "      <td>1</td>\n",
       "      <td>6.0</td>\n",
       "      <td>11</td>\n",
       "    </tr>\n",
       "    <tr>\n",
       "      <th>5</th>\n",
       "      <td>2</td>\n",
       "      <td>9.0</td>\n",
       "      <td>12</td>\n",
       "    </tr>\n",
       "  </tbody>\n",
       "</table>\n",
       "</div>"
      ],
      "text/plain": [
       "   var1  var2  var3\n",
       "1     0   NaN    14\n",
       "2     4   5.0    10\n",
       "3     3   NaN    13\n",
       "4     1   6.0    11\n",
       "5     2   9.0    12"
      ]
     },
     "execution_count": 27,
     "metadata": {},
     "output_type": "execute_result"
    }
   ],
   "source": [
    "X"
   ]
  },
  {
   "cell_type": "code",
   "execution_count": 28,
   "metadata": {},
   "outputs": [
    {
     "data": {
      "text/html": [
       "<div>\n",
       "<style scoped>\n",
       "    .dataframe tbody tr th:only-of-type {\n",
       "        vertical-align: middle;\n",
       "    }\n",
       "\n",
       "    .dataframe tbody tr th {\n",
       "        vertical-align: top;\n",
       "    }\n",
       "\n",
       "    .dataframe thead th {\n",
       "        text-align: right;\n",
       "    }\n",
       "</style>\n",
       "<table border=\"1\" class=\"dataframe\">\n",
       "  <thead>\n",
       "    <tr style=\"text-align: right;\">\n",
       "      <th></th>\n",
       "      <th>var1</th>\n",
       "      <th>var2</th>\n",
       "      <th>var3</th>\n",
       "    </tr>\n",
       "  </thead>\n",
       "  <tbody>\n",
       "    <tr>\n",
       "      <th>2</th>\n",
       "      <td>4</td>\n",
       "      <td>5.0</td>\n",
       "      <td>10</td>\n",
       "    </tr>\n",
       "    <tr>\n",
       "      <th>4</th>\n",
       "      <td>1</td>\n",
       "      <td>6.0</td>\n",
       "      <td>11</td>\n",
       "    </tr>\n",
       "    <tr>\n",
       "      <th>5</th>\n",
       "      <td>2</td>\n",
       "      <td>9.0</td>\n",
       "      <td>12</td>\n",
       "    </tr>\n",
       "  </tbody>\n",
       "</table>\n",
       "</div>"
      ],
      "text/plain": [
       "   var1  var2  var3\n",
       "2     4   5.0    10\n",
       "4     1   6.0    11\n",
       "5     2   9.0    12"
      ]
     },
     "execution_count": 28,
     "metadata": {},
     "output_type": "execute_result"
    }
   ],
   "source": [
    "X.dropna()"
   ]
  },
  {
   "cell_type": "markdown",
   "metadata": {
    "slideshow": {
     "slide_type": "slide"
    }
   },
   "source": [
    "## 遺失的資料原本應該是什麼？\n",
    "\n",
    "遺失值的處理是一個專門的研究主題，「遺失的資料原本應該是什麼」本身就是個艱難的問題，例如：\n",
    "\n",
    "- 資料遺失的發生是完全隨機的，還是系統性的隨機？\n",
    "- 資料遺失如果不是隨機發生，背後有什麼特殊的意義？\n",
    "\n",
    "這些問題與資料本身的特性有關，對科學研究本身至關重要，但在課程裡我們聚焦在處理遺失值的工具上。除了最簡單的「放棄資料」之外，pandas 還提供了 `DataFrame.fillna()` 、 `DataFrame.interpolate()` 這些簡單的工具讓我們可以快速的填入值。"
   ]
  },
  {
   "cell_type": "markdown",
   "metadata": {
    "slideshow": {
     "slide_type": "slide"
    }
   },
   "source": [
    " `DataFrame.fillna()` 讓我們可以快速的填入一個指定值。詳細的使用方法可以參考[使用手冊](https://pandas.pydata.org/pandas-docs/stable/generated/pandas.DataFrame.fillna.html)。"
   ]
  },
  {
   "cell_type": "code",
   "execution_count": 29,
   "metadata": {},
   "outputs": [
    {
     "data": {
      "text/html": [
       "<div>\n",
       "<style scoped>\n",
       "    .dataframe tbody tr th:only-of-type {\n",
       "        vertical-align: middle;\n",
       "    }\n",
       "\n",
       "    .dataframe tbody tr th {\n",
       "        vertical-align: top;\n",
       "    }\n",
       "\n",
       "    .dataframe thead th {\n",
       "        text-align: right;\n",
       "    }\n",
       "</style>\n",
       "<table border=\"1\" class=\"dataframe\">\n",
       "  <thead>\n",
       "    <tr style=\"text-align: right;\">\n",
       "      <th></th>\n",
       "      <th>var1</th>\n",
       "      <th>var2</th>\n",
       "      <th>var3</th>\n",
       "    </tr>\n",
       "  </thead>\n",
       "  <tbody>\n",
       "    <tr>\n",
       "      <th>1</th>\n",
       "      <td>0</td>\n",
       "      <td>NaN</td>\n",
       "      <td>14</td>\n",
       "    </tr>\n",
       "    <tr>\n",
       "      <th>2</th>\n",
       "      <td>4</td>\n",
       "      <td>5.0</td>\n",
       "      <td>10</td>\n",
       "    </tr>\n",
       "    <tr>\n",
       "      <th>3</th>\n",
       "      <td>3</td>\n",
       "      <td>NaN</td>\n",
       "      <td>13</td>\n",
       "    </tr>\n",
       "    <tr>\n",
       "      <th>4</th>\n",
       "      <td>1</td>\n",
       "      <td>6.0</td>\n",
       "      <td>11</td>\n",
       "    </tr>\n",
       "    <tr>\n",
       "      <th>5</th>\n",
       "      <td>2</td>\n",
       "      <td>9.0</td>\n",
       "      <td>12</td>\n",
       "    </tr>\n",
       "  </tbody>\n",
       "</table>\n",
       "</div>"
      ],
      "text/plain": [
       "   var1  var2  var3\n",
       "1     0   NaN    14\n",
       "2     4   5.0    10\n",
       "3     3   NaN    13\n",
       "4     1   6.0    11\n",
       "5     2   9.0    12"
      ]
     },
     "execution_count": 29,
     "metadata": {},
     "output_type": "execute_result"
    }
   ],
   "source": [
    "X"
   ]
  },
  {
   "cell_type": "code",
   "execution_count": 30,
   "metadata": {},
   "outputs": [
    {
     "data": {
      "text/html": [
       "<div>\n",
       "<style scoped>\n",
       "    .dataframe tbody tr th:only-of-type {\n",
       "        vertical-align: middle;\n",
       "    }\n",
       "\n",
       "    .dataframe tbody tr th {\n",
       "        vertical-align: top;\n",
       "    }\n",
       "\n",
       "    .dataframe thead th {\n",
       "        text-align: right;\n",
       "    }\n",
       "</style>\n",
       "<table border=\"1\" class=\"dataframe\">\n",
       "  <thead>\n",
       "    <tr style=\"text-align: right;\">\n",
       "      <th></th>\n",
       "      <th>var1</th>\n",
       "      <th>var2</th>\n",
       "      <th>var3</th>\n",
       "    </tr>\n",
       "  </thead>\n",
       "  <tbody>\n",
       "    <tr>\n",
       "      <th>1</th>\n",
       "      <td>0</td>\n",
       "      <td>0.0</td>\n",
       "      <td>14</td>\n",
       "    </tr>\n",
       "    <tr>\n",
       "      <th>2</th>\n",
       "      <td>4</td>\n",
       "      <td>5.0</td>\n",
       "      <td>10</td>\n",
       "    </tr>\n",
       "    <tr>\n",
       "      <th>3</th>\n",
       "      <td>3</td>\n",
       "      <td>0.0</td>\n",
       "      <td>13</td>\n",
       "    </tr>\n",
       "    <tr>\n",
       "      <th>4</th>\n",
       "      <td>1</td>\n",
       "      <td>6.0</td>\n",
       "      <td>11</td>\n",
       "    </tr>\n",
       "    <tr>\n",
       "      <th>5</th>\n",
       "      <td>2</td>\n",
       "      <td>9.0</td>\n",
       "      <td>12</td>\n",
       "    </tr>\n",
       "  </tbody>\n",
       "</table>\n",
       "</div>"
      ],
      "text/plain": [
       "   var1  var2  var3\n",
       "1     0   0.0    14\n",
       "2     4   5.0    10\n",
       "3     3   0.0    13\n",
       "4     1   6.0    11\n",
       "5     2   9.0    12"
      ]
     },
     "execution_count": 30,
     "metadata": {},
     "output_type": "execute_result"
    }
   ],
   "source": [
    "X.fillna(0)"
   ]
  },
  {
   "cell_type": "code",
   "execution_count": 31,
   "metadata": {},
   "outputs": [
    {
     "data": {
      "text/html": [
       "<div>\n",
       "<style scoped>\n",
       "    .dataframe tbody tr th:only-of-type {\n",
       "        vertical-align: middle;\n",
       "    }\n",
       "\n",
       "    .dataframe tbody tr th {\n",
       "        vertical-align: top;\n",
       "    }\n",
       "\n",
       "    .dataframe thead th {\n",
       "        text-align: right;\n",
       "    }\n",
       "</style>\n",
       "<table border=\"1\" class=\"dataframe\">\n",
       "  <thead>\n",
       "    <tr style=\"text-align: right;\">\n",
       "      <th></th>\n",
       "      <th>var1</th>\n",
       "      <th>var2</th>\n",
       "      <th>var3</th>\n",
       "    </tr>\n",
       "  </thead>\n",
       "  <tbody>\n",
       "    <tr>\n",
       "      <th>1</th>\n",
       "      <td>0</td>\n",
       "      <td>5.0</td>\n",
       "      <td>14</td>\n",
       "    </tr>\n",
       "    <tr>\n",
       "      <th>2</th>\n",
       "      <td>4</td>\n",
       "      <td>5.0</td>\n",
       "      <td>10</td>\n",
       "    </tr>\n",
       "    <tr>\n",
       "      <th>3</th>\n",
       "      <td>3</td>\n",
       "      <td>6.0</td>\n",
       "      <td>13</td>\n",
       "    </tr>\n",
       "    <tr>\n",
       "      <th>4</th>\n",
       "      <td>1</td>\n",
       "      <td>6.0</td>\n",
       "      <td>11</td>\n",
       "    </tr>\n",
       "    <tr>\n",
       "      <th>5</th>\n",
       "      <td>2</td>\n",
       "      <td>9.0</td>\n",
       "      <td>12</td>\n",
       "    </tr>\n",
       "  </tbody>\n",
       "</table>\n",
       "</div>"
      ],
      "text/plain": [
       "   var1  var2  var3\n",
       "1     0   5.0    14\n",
       "2     4   5.0    10\n",
       "3     3   6.0    13\n",
       "4     1   6.0    11\n",
       "5     2   9.0    12"
      ]
     },
     "execution_count": 31,
     "metadata": {},
     "output_type": "execute_result"
    }
   ],
   "source": [
    "X.fillna(method='bfill')"
   ]
  },
  {
   "cell_type": "markdown",
   "metadata": {
    "slideshow": {
     "slide_type": "slide"
    }
   },
   "source": [
    " `DataFrame.interpolate()` 則是提供了各種內插函數，從簡單的線性內插到 cubic-spline，以及更複雜的 model-based interpolation。使用的方法及限制可以參考[使用手冊](https://pandas.pydata.org/pandas-docs/stable/generated/pandas.DataFrame.interpolate.html#pandas.DataFrame.interpolate)。"
   ]
  },
  {
   "cell_type": "code",
   "execution_count": 32,
   "metadata": {},
   "outputs": [
    {
     "data": {
      "text/html": [
       "<div>\n",
       "<style scoped>\n",
       "    .dataframe tbody tr th:only-of-type {\n",
       "        vertical-align: middle;\n",
       "    }\n",
       "\n",
       "    .dataframe tbody tr th {\n",
       "        vertical-align: top;\n",
       "    }\n",
       "\n",
       "    .dataframe thead th {\n",
       "        text-align: right;\n",
       "    }\n",
       "</style>\n",
       "<table border=\"1\" class=\"dataframe\">\n",
       "  <thead>\n",
       "    <tr style=\"text-align: right;\">\n",
       "      <th></th>\n",
       "      <th>var1</th>\n",
       "      <th>var2</th>\n",
       "      <th>var3</th>\n",
       "    </tr>\n",
       "  </thead>\n",
       "  <tbody>\n",
       "    <tr>\n",
       "      <th>1</th>\n",
       "      <td>0</td>\n",
       "      <td>NaN</td>\n",
       "      <td>14</td>\n",
       "    </tr>\n",
       "    <tr>\n",
       "      <th>2</th>\n",
       "      <td>4</td>\n",
       "      <td>5.0</td>\n",
       "      <td>10</td>\n",
       "    </tr>\n",
       "    <tr>\n",
       "      <th>3</th>\n",
       "      <td>3</td>\n",
       "      <td>5.5</td>\n",
       "      <td>13</td>\n",
       "    </tr>\n",
       "    <tr>\n",
       "      <th>4</th>\n",
       "      <td>1</td>\n",
       "      <td>6.0</td>\n",
       "      <td>11</td>\n",
       "    </tr>\n",
       "    <tr>\n",
       "      <th>5</th>\n",
       "      <td>2</td>\n",
       "      <td>9.0</td>\n",
       "      <td>12</td>\n",
       "    </tr>\n",
       "  </tbody>\n",
       "</table>\n",
       "</div>"
      ],
      "text/plain": [
       "   var1  var2  var3\n",
       "1     0   NaN    14\n",
       "2     4   5.0    10\n",
       "3     3   5.5    13\n",
       "4     1   6.0    11\n",
       "5     2   9.0    12"
      ]
     },
     "execution_count": 32,
     "metadata": {},
     "output_type": "execute_result"
    }
   ],
   "source": [
    "X.interpolate()"
   ]
  },
  {
   "cell_type": "code",
   "execution_count": 33,
   "metadata": {},
   "outputs": [
    {
     "data": {
      "text/html": [
       "<div>\n",
       "<style scoped>\n",
       "    .dataframe tbody tr th:only-of-type {\n",
       "        vertical-align: middle;\n",
       "    }\n",
       "\n",
       "    .dataframe tbody tr th {\n",
       "        vertical-align: top;\n",
       "    }\n",
       "\n",
       "    .dataframe thead th {\n",
       "        text-align: right;\n",
       "    }\n",
       "</style>\n",
       "<table border=\"1\" class=\"dataframe\">\n",
       "  <thead>\n",
       "    <tr style=\"text-align: right;\">\n",
       "      <th></th>\n",
       "      <th>var1</th>\n",
       "      <th>var2</th>\n",
       "      <th>var3</th>\n",
       "    </tr>\n",
       "  </thead>\n",
       "  <tbody>\n",
       "    <tr>\n",
       "      <th>1</th>\n",
       "      <td>0.0</td>\n",
       "      <td>7.0</td>\n",
       "      <td>14.0</td>\n",
       "    </tr>\n",
       "    <tr>\n",
       "      <th>2</th>\n",
       "      <td>4.0</td>\n",
       "      <td>5.0</td>\n",
       "      <td>10.0</td>\n",
       "    </tr>\n",
       "    <tr>\n",
       "      <th>3</th>\n",
       "      <td>3.0</td>\n",
       "      <td>8.0</td>\n",
       "      <td>13.0</td>\n",
       "    </tr>\n",
       "    <tr>\n",
       "      <th>4</th>\n",
       "      <td>1.0</td>\n",
       "      <td>6.0</td>\n",
       "      <td>11.0</td>\n",
       "    </tr>\n",
       "    <tr>\n",
       "      <th>5</th>\n",
       "      <td>2.0</td>\n",
       "      <td>9.0</td>\n",
       "      <td>12.0</td>\n",
       "    </tr>\n",
       "  </tbody>\n",
       "</table>\n",
       "</div>"
      ],
      "text/plain": [
       "   var1  var2  var3\n",
       "1   0.0   7.0  14.0\n",
       "2   4.0   5.0  10.0\n",
       "3   3.0   8.0  13.0\n",
       "4   1.0   6.0  11.0\n",
       "5   2.0   9.0  12.0"
      ]
     },
     "execution_count": 33,
     "metadata": {},
     "output_type": "execute_result"
    }
   ],
   "source": [
    "X.interpolate(axis=1)"
   ]
  },
  {
   "cell_type": "markdown",
   "metadata": {
    "slideshow": {
     "slide_type": "slide"
    }
   },
   "source": [
    "# 資料摘要 (Summerizing)\n",
    "\n",
    "如同前面提到的，當我們取得一筆資料，無論是要填入遺失值或是進一步產生新變數，都需要先了解資料的特性。pandas 提供了[一些工具](https://pandas.pydata.org/pandas-docs/stable/api.html#api-dataframe-stats)讓我們可以快速的最資料集做摘要，列舉部分如下：\n",
    "\n",
    "- `DataFrame.describe()`：對數值變項做簡單的描述統計摘要\n",
    "- `DataFrame.head()` / `DataFrame.tail()`：顯示最前面/最後面的幾列資料\n",
    "- `DataFrame.quantile()`：\n"
   ]
  },
  {
   "cell_type": "code",
   "execution_count": 34,
   "metadata": {},
   "outputs": [
    {
     "data": {
      "text/html": [
       "<div>\n",
       "<style scoped>\n",
       "    .dataframe tbody tr th:only-of-type {\n",
       "        vertical-align: middle;\n",
       "    }\n",
       "\n",
       "    .dataframe tbody tr th {\n",
       "        vertical-align: top;\n",
       "    }\n",
       "\n",
       "    .dataframe thead th {\n",
       "        text-align: right;\n",
       "    }\n",
       "</style>\n",
       "<table border=\"1\" class=\"dataframe\">\n",
       "  <thead>\n",
       "    <tr style=\"text-align: right;\">\n",
       "      <th></th>\n",
       "      <th>Ozone</th>\n",
       "      <th>Solar.R</th>\n",
       "      <th>Wind</th>\n",
       "      <th>Temp</th>\n",
       "      <th>Month</th>\n",
       "      <th>Day</th>\n",
       "    </tr>\n",
       "  </thead>\n",
       "  <tbody>\n",
       "    <tr>\n",
       "      <th>count</th>\n",
       "      <td>116.000000</td>\n",
       "      <td>146.000000</td>\n",
       "      <td>153.000000</td>\n",
       "      <td>153.000000</td>\n",
       "      <td>153.000000</td>\n",
       "      <td>153.000000</td>\n",
       "    </tr>\n",
       "    <tr>\n",
       "      <th>mean</th>\n",
       "      <td>42.129310</td>\n",
       "      <td>185.931507</td>\n",
       "      <td>9.957516</td>\n",
       "      <td>77.882353</td>\n",
       "      <td>6.993464</td>\n",
       "      <td>15.803922</td>\n",
       "    </tr>\n",
       "    <tr>\n",
       "      <th>std</th>\n",
       "      <td>32.987885</td>\n",
       "      <td>90.058422</td>\n",
       "      <td>3.523001</td>\n",
       "      <td>9.465270</td>\n",
       "      <td>1.416522</td>\n",
       "      <td>8.864520</td>\n",
       "    </tr>\n",
       "    <tr>\n",
       "      <th>min</th>\n",
       "      <td>1.000000</td>\n",
       "      <td>7.000000</td>\n",
       "      <td>1.700000</td>\n",
       "      <td>56.000000</td>\n",
       "      <td>5.000000</td>\n",
       "      <td>1.000000</td>\n",
       "    </tr>\n",
       "    <tr>\n",
       "      <th>25%</th>\n",
       "      <td>18.000000</td>\n",
       "      <td>115.750000</td>\n",
       "      <td>7.400000</td>\n",
       "      <td>72.000000</td>\n",
       "      <td>6.000000</td>\n",
       "      <td>8.000000</td>\n",
       "    </tr>\n",
       "    <tr>\n",
       "      <th>50%</th>\n",
       "      <td>31.500000</td>\n",
       "      <td>205.000000</td>\n",
       "      <td>9.700000</td>\n",
       "      <td>79.000000</td>\n",
       "      <td>7.000000</td>\n",
       "      <td>16.000000</td>\n",
       "    </tr>\n",
       "    <tr>\n",
       "      <th>75%</th>\n",
       "      <td>63.250000</td>\n",
       "      <td>258.750000</td>\n",
       "      <td>11.500000</td>\n",
       "      <td>85.000000</td>\n",
       "      <td>8.000000</td>\n",
       "      <td>23.000000</td>\n",
       "    </tr>\n",
       "    <tr>\n",
       "      <th>max</th>\n",
       "      <td>168.000000</td>\n",
       "      <td>334.000000</td>\n",
       "      <td>20.700000</td>\n",
       "      <td>97.000000</td>\n",
       "      <td>9.000000</td>\n",
       "      <td>31.000000</td>\n",
       "    </tr>\n",
       "  </tbody>\n",
       "</table>\n",
       "</div>"
      ],
      "text/plain": [
       "            Ozone     Solar.R        Wind        Temp       Month         Day\n",
       "count  116.000000  146.000000  153.000000  153.000000  153.000000  153.000000\n",
       "mean    42.129310  185.931507    9.957516   77.882353    6.993464   15.803922\n",
       "std     32.987885   90.058422    3.523001    9.465270    1.416522    8.864520\n",
       "min      1.000000    7.000000    1.700000   56.000000    5.000000    1.000000\n",
       "25%     18.000000  115.750000    7.400000   72.000000    6.000000    8.000000\n",
       "50%     31.500000  205.000000    9.700000   79.000000    7.000000   16.000000\n",
       "75%     63.250000  258.750000   11.500000   85.000000    8.000000   23.000000\n",
       "max    168.000000  334.000000   20.700000   97.000000    9.000000   31.000000"
      ]
     },
     "execution_count": 34,
     "metadata": {},
     "output_type": "execute_result"
    }
   ],
   "source": [
    "data = pd.read_csv('../data/data_sample1.csv')\n",
    "data.describe()"
   ]
  },
  {
   "cell_type": "markdown",
   "metadata": {
    "slideshow": {
     "slide_type": "slide"
    }
   },
   "source": [
    "`DataFrame.corr()` / `DataFrame.cov()` 可以快速的算出相關矩陣 / 共變數矩陣"
   ]
  },
  {
   "cell_type": "code",
   "execution_count": 35,
   "metadata": {},
   "outputs": [
    {
     "data": {
      "text/html": [
       "<div>\n",
       "<style scoped>\n",
       "    .dataframe tbody tr th:only-of-type {\n",
       "        vertical-align: middle;\n",
       "    }\n",
       "\n",
       "    .dataframe tbody tr th {\n",
       "        vertical-align: top;\n",
       "    }\n",
       "\n",
       "    .dataframe thead th {\n",
       "        text-align: right;\n",
       "    }\n",
       "</style>\n",
       "<table border=\"1\" class=\"dataframe\">\n",
       "  <thead>\n",
       "    <tr style=\"text-align: right;\">\n",
       "      <th></th>\n",
       "      <th>Ozone</th>\n",
       "      <th>Solar.R</th>\n",
       "      <th>Wind</th>\n",
       "      <th>Temp</th>\n",
       "      <th>Month</th>\n",
       "      <th>Day</th>\n",
       "    </tr>\n",
       "  </thead>\n",
       "  <tbody>\n",
       "    <tr>\n",
       "      <th>Ozone</th>\n",
       "      <td>1.000000</td>\n",
       "      <td>0.348342</td>\n",
       "      <td>-0.601547</td>\n",
       "      <td>0.698360</td>\n",
       "      <td>0.164519</td>\n",
       "      <td>-0.013226</td>\n",
       "    </tr>\n",
       "    <tr>\n",
       "      <th>Solar.R</th>\n",
       "      <td>0.348342</td>\n",
       "      <td>1.000000</td>\n",
       "      <td>-0.056792</td>\n",
       "      <td>0.275840</td>\n",
       "      <td>-0.075301</td>\n",
       "      <td>-0.150275</td>\n",
       "    </tr>\n",
       "    <tr>\n",
       "      <th>Wind</th>\n",
       "      <td>-0.601547</td>\n",
       "      <td>-0.056792</td>\n",
       "      <td>1.000000</td>\n",
       "      <td>-0.457988</td>\n",
       "      <td>-0.178293</td>\n",
       "      <td>0.027181</td>\n",
       "    </tr>\n",
       "    <tr>\n",
       "      <th>Temp</th>\n",
       "      <td>0.698360</td>\n",
       "      <td>0.275840</td>\n",
       "      <td>-0.457988</td>\n",
       "      <td>1.000000</td>\n",
       "      <td>0.420947</td>\n",
       "      <td>-0.130593</td>\n",
       "    </tr>\n",
       "    <tr>\n",
       "      <th>Month</th>\n",
       "      <td>0.164519</td>\n",
       "      <td>-0.075301</td>\n",
       "      <td>-0.178293</td>\n",
       "      <td>0.420947</td>\n",
       "      <td>1.000000</td>\n",
       "      <td>-0.007962</td>\n",
       "    </tr>\n",
       "    <tr>\n",
       "      <th>Day</th>\n",
       "      <td>-0.013226</td>\n",
       "      <td>-0.150275</td>\n",
       "      <td>0.027181</td>\n",
       "      <td>-0.130593</td>\n",
       "      <td>-0.007962</td>\n",
       "      <td>1.000000</td>\n",
       "    </tr>\n",
       "  </tbody>\n",
       "</table>\n",
       "</div>"
      ],
      "text/plain": [
       "            Ozone   Solar.R      Wind      Temp     Month       Day\n",
       "Ozone    1.000000  0.348342 -0.601547  0.698360  0.164519 -0.013226\n",
       "Solar.R  0.348342  1.000000 -0.056792  0.275840 -0.075301 -0.150275\n",
       "Wind    -0.601547 -0.056792  1.000000 -0.457988 -0.178293  0.027181\n",
       "Temp     0.698360  0.275840 -0.457988  1.000000  0.420947 -0.130593\n",
       "Month    0.164519 -0.075301 -0.178293  0.420947  1.000000 -0.007962\n",
       "Day     -0.013226 -0.150275  0.027181 -0.130593 -0.007962  1.000000"
      ]
     },
     "execution_count": 35,
     "metadata": {},
     "output_type": "execute_result"
    }
   ],
   "source": [
    "data.corr()"
   ]
  },
  {
   "cell_type": "markdown",
   "metadata": {
    "slideshow": {
     "slide_type": "slide"
    }
   },
   "source": [
    "`pandas.crosstab()` 可以快速的做交叉分析表。例如，我們想看看每個月份氣溫高於80％百分位數的有幾天："
   ]
  },
  {
   "cell_type": "code",
   "execution_count": 36,
   "metadata": {},
   "outputs": [
    {
     "data": {
      "text/html": [
       "<div>\n",
       "<style scoped>\n",
       "    .dataframe tbody tr th:only-of-type {\n",
       "        vertical-align: middle;\n",
       "    }\n",
       "\n",
       "    .dataframe tbody tr th {\n",
       "        vertical-align: top;\n",
       "    }\n",
       "\n",
       "    .dataframe thead tr th {\n",
       "        text-align: left;\n",
       "    }\n",
       "\n",
       "    .dataframe thead tr:last-of-type th {\n",
       "        text-align: right;\n",
       "    }\n",
       "</style>\n",
       "<table border=\"1\" class=\"dataframe\">\n",
       "  <thead>\n",
       "    <tr>\n",
       "      <th>hot</th>\n",
       "      <th>False</th>\n",
       "      <th>True</th>\n",
       "    </tr>\n",
       "    <tr>\n",
       "      <th>col_1</th>\n",
       "      <th>count</th>\n",
       "      <th>count</th>\n",
       "    </tr>\n",
       "    <tr>\n",
       "      <th>Month</th>\n",
       "      <th></th>\n",
       "      <th></th>\n",
       "    </tr>\n",
       "  </thead>\n",
       "  <tbody>\n",
       "    <tr>\n",
       "      <th>5</th>\n",
       "      <td>31</td>\n",
       "      <td>0</td>\n",
       "    </tr>\n",
       "    <tr>\n",
       "      <th>6</th>\n",
       "      <td>25</td>\n",
       "      <td>5</td>\n",
       "    </tr>\n",
       "    <tr>\n",
       "      <th>7</th>\n",
       "      <td>21</td>\n",
       "      <td>10</td>\n",
       "    </tr>\n",
       "    <tr>\n",
       "      <th>8</th>\n",
       "      <td>17</td>\n",
       "      <td>14</td>\n",
       "    </tr>\n",
       "    <tr>\n",
       "      <th>9</th>\n",
       "      <td>25</td>\n",
       "      <td>5</td>\n",
       "    </tr>\n",
       "  </tbody>\n",
       "</table>\n",
       "</div>"
      ],
      "text/plain": [
       "hot   False True \n",
       "col_1 count count\n",
       "Month            \n",
       "5        31     0\n",
       "6        25     5\n",
       "7        21    10\n",
       "8        17    14\n",
       "9        25     5"
      ]
     },
     "execution_count": 36,
     "metadata": {},
     "output_type": "execute_result"
    }
   ],
   "source": [
    "data['hot'] = data['Temp'] >= data['Temp'].quantile(0.8)\n",
    "pd.crosstab(data['Month'],[data['hot'],'count'])"
   ]
  },
  {
   "cell_type": "markdown",
   "metadata": {
    "slideshow": {
     "slide_type": "slide"
    }
   },
   "source": [
    "又例如，我們想知道今年註冊的新公司，註冊所在地與資本額的關聯性："
   ]
  },
  {
   "cell_type": "code",
   "execution_count": 37,
   "metadata": {},
   "outputs": [
    {
     "data": {
      "text/plain": [
       "22"
      ]
     },
     "execution_count": 37,
     "metadata": {},
     "output_type": "execute_result"
    }
   ],
   "source": [
    "len(set(company_reg_data['city']))"
   ]
  },
  {
   "cell_type": "code",
   "execution_count": 38,
   "metadata": {},
   "outputs": [
    {
     "data": {
      "text/html": [
       "<div>\n",
       "<style scoped>\n",
       "    .dataframe tbody tr th:only-of-type {\n",
       "        vertical-align: middle;\n",
       "    }\n",
       "\n",
       "    .dataframe tbody tr th {\n",
       "        vertical-align: top;\n",
       "    }\n",
       "\n",
       "    .dataframe thead tr th {\n",
       "        text-align: left;\n",
       "    }\n",
       "\n",
       "    .dataframe thead tr:last-of-type th {\n",
       "        text-align: right;\n",
       "    }\n",
       "</style>\n",
       "<table border=\"1\" class=\"dataframe\">\n",
       "  <thead>\n",
       "    <tr>\n",
       "      <th>capital</th>\n",
       "      <th>30萬以下</th>\n",
       "      <th>100萬以下</th>\n",
       "      <th>200萬以下</th>\n",
       "      <th>200萬以上</th>\n",
       "    </tr>\n",
       "    <tr>\n",
       "      <th>col_1</th>\n",
       "      <th>count</th>\n",
       "      <th>count</th>\n",
       "      <th>count</th>\n",
       "      <th>count</th>\n",
       "    </tr>\n",
       "    <tr>\n",
       "      <th>city</th>\n",
       "      <th></th>\n",
       "      <th></th>\n",
       "      <th></th>\n",
       "      <th></th>\n",
       "    </tr>\n",
       "  </thead>\n",
       "  <tbody>\n",
       "    <tr>\n",
       "      <th>南投縣</th>\n",
       "      <td>5</td>\n",
       "      <td>3</td>\n",
       "      <td>2</td>\n",
       "      <td>1</td>\n",
       "    </tr>\n",
       "    <tr>\n",
       "      <th>台北市</th>\n",
       "      <td>1</td>\n",
       "      <td>0</td>\n",
       "      <td>0</td>\n",
       "      <td>0</td>\n",
       "    </tr>\n",
       "    <tr>\n",
       "      <th>嘉義市</th>\n",
       "      <td>7</td>\n",
       "      <td>4</td>\n",
       "      <td>4</td>\n",
       "      <td>3</td>\n",
       "    </tr>\n",
       "    <tr>\n",
       "      <th>嘉義縣</th>\n",
       "      <td>9</td>\n",
       "      <td>8</td>\n",
       "      <td>1</td>\n",
       "      <td>6</td>\n",
       "    </tr>\n",
       "    <tr>\n",
       "      <th>基隆市</th>\n",
       "      <td>11</td>\n",
       "      <td>6</td>\n",
       "      <td>4</td>\n",
       "      <td>2</td>\n",
       "    </tr>\n",
       "    <tr>\n",
       "      <th>宜蘭縣</th>\n",
       "      <td>8</td>\n",
       "      <td>9</td>\n",
       "      <td>2</td>\n",
       "      <td>4</td>\n",
       "    </tr>\n",
       "    <tr>\n",
       "      <th>屏東縣</th>\n",
       "      <td>27</td>\n",
       "      <td>19</td>\n",
       "      <td>5</td>\n",
       "      <td>3</td>\n",
       "    </tr>\n",
       "    <tr>\n",
       "      <th>彰化縣</th>\n",
       "      <td>23</td>\n",
       "      <td>36</td>\n",
       "      <td>11</td>\n",
       "      <td>27</td>\n",
       "    </tr>\n",
       "    <tr>\n",
       "      <th>新北市</th>\n",
       "      <td>143</td>\n",
       "      <td>215</td>\n",
       "      <td>38</td>\n",
       "      <td>89</td>\n",
       "    </tr>\n",
       "    <tr>\n",
       "      <th>新竹市</th>\n",
       "      <td>15</td>\n",
       "      <td>21</td>\n",
       "      <td>2</td>\n",
       "      <td>11</td>\n",
       "    </tr>\n",
       "    <tr>\n",
       "      <th>新竹縣</th>\n",
       "      <td>22</td>\n",
       "      <td>25</td>\n",
       "      <td>5</td>\n",
       "      <td>21</td>\n",
       "    </tr>\n",
       "    <tr>\n",
       "      <th>桃園市</th>\n",
       "      <td>75</td>\n",
       "      <td>110</td>\n",
       "      <td>26</td>\n",
       "      <td>59</td>\n",
       "    </tr>\n",
       "    <tr>\n",
       "      <th>澎湖縣</th>\n",
       "      <td>1</td>\n",
       "      <td>0</td>\n",
       "      <td>1</td>\n",
       "      <td>1</td>\n",
       "    </tr>\n",
       "    <tr>\n",
       "      <th>臺中市</th>\n",
       "      <td>147</td>\n",
       "      <td>185</td>\n",
       "      <td>36</td>\n",
       "      <td>85</td>\n",
       "    </tr>\n",
       "    <tr>\n",
       "      <th>臺北市</th>\n",
       "      <td>249</td>\n",
       "      <td>349</td>\n",
       "      <td>60</td>\n",
       "      <td>221</td>\n",
       "    </tr>\n",
       "    <tr>\n",
       "      <th>臺南市</th>\n",
       "      <td>40</td>\n",
       "      <td>68</td>\n",
       "      <td>17</td>\n",
       "      <td>52</td>\n",
       "    </tr>\n",
       "    <tr>\n",
       "      <th>臺東縣</th>\n",
       "      <td>3</td>\n",
       "      <td>1</td>\n",
       "      <td>0</td>\n",
       "      <td>1</td>\n",
       "    </tr>\n",
       "    <tr>\n",
       "      <th>花蓮縣</th>\n",
       "      <td>6</td>\n",
       "      <td>3</td>\n",
       "      <td>3</td>\n",
       "      <td>5</td>\n",
       "    </tr>\n",
       "    <tr>\n",
       "      <th>苗栗縣</th>\n",
       "      <td>7</td>\n",
       "      <td>10</td>\n",
       "      <td>4</td>\n",
       "      <td>6</td>\n",
       "    </tr>\n",
       "    <tr>\n",
       "      <th>金門縣</th>\n",
       "      <td>1</td>\n",
       "      <td>5</td>\n",
       "      <td>0</td>\n",
       "      <td>1</td>\n",
       "    </tr>\n",
       "    <tr>\n",
       "      <th>雲林縣</th>\n",
       "      <td>5</td>\n",
       "      <td>9</td>\n",
       "      <td>7</td>\n",
       "      <td>8</td>\n",
       "    </tr>\n",
       "    <tr>\n",
       "      <th>高雄市</th>\n",
       "      <td>75</td>\n",
       "      <td>121</td>\n",
       "      <td>37</td>\n",
       "      <td>61</td>\n",
       "    </tr>\n",
       "  </tbody>\n",
       "</table>\n",
       "</div>"
      ],
      "text/plain": [
       "capital 30萬以下 100萬以下 200萬以下 200萬以上\n",
       "col_1   count  count  count  count\n",
       "city                              \n",
       "南投縣         5      3      2      1\n",
       "台北市         1      0      0      0\n",
       "嘉義市         7      4      4      3\n",
       "嘉義縣         9      8      1      6\n",
       "基隆市        11      6      4      2\n",
       "宜蘭縣         8      9      2      4\n",
       "屏東縣        27     19      5      3\n",
       "彰化縣        23     36     11     27\n",
       "新北市       143    215     38     89\n",
       "新竹市        15     21      2     11\n",
       "新竹縣        22     25      5     21\n",
       "桃園市        75    110     26     59\n",
       "澎湖縣         1      0      1      1\n",
       "臺中市       147    185     36     85\n",
       "臺北市       249    349     60    221\n",
       "臺南市        40     68     17     52\n",
       "臺東縣         3      1      0      1\n",
       "花蓮縣         6      3      3      5\n",
       "苗栗縣         7     10      4      6\n",
       "金門縣         1      5      0      1\n",
       "雲林縣         5      9      7      8\n",
       "高雄市        75    121     37     61"
      ]
     },
     "execution_count": 38,
     "metadata": {},
     "output_type": "execute_result"
    }
   ],
   "source": [
    "pd.crosstab(company_reg_data['city'], [company_reg_data['capital'],'count'])"
   ]
  },
  {
   "cell_type": "markdown",
   "metadata": {},
   "source": [
    "發現有什麼問題嗎？"
   ]
  },
  {
   "cell_type": "markdown",
   "metadata": {
    "slideshow": {
     "slide_type": "slide"
    }
   },
   "source": [
    "## Quiz\n",
    "\n",
    "我們發現公司登記資料有一點小問題，怎麼修理它呢？"
   ]
  },
  {
   "cell_type": "code",
   "execution_count": 39,
   "metadata": {},
   "outputs": [
    {
     "data": {
      "text/plain": [
       "臺北市    879\n",
       "新北市    485\n",
       "臺中市    453\n",
       "高雄市    294\n",
       "桃園市    270\n",
       "臺南市    177\n",
       "彰化縣     97\n",
       "新竹縣     73\n",
       "屏東縣     54\n",
       "新竹市     49\n",
       "雲林縣     29\n",
       "苗栗縣     27\n",
       "嘉義縣     24\n",
       "宜蘭縣     23\n",
       "基隆市     23\n",
       "嘉義市     18\n",
       "花蓮縣     17\n",
       "南投縣     11\n",
       "金門縣      7\n",
       "臺東縣      5\n",
       "澎湖縣      3\n",
       "台北市      1\n",
       "Name: city, dtype: int64"
      ]
     },
     "execution_count": 39,
     "metadata": {},
     "output_type": "execute_result"
    }
   ],
   "source": [
    "company_reg_data['city'=='台北市', 'city'] = '臺北市'\n",
    "company_reg_data['city'].value_counts()"
   ]
  },
  {
   "cell_type": "markdown",
   "metadata": {
    "slideshow": {
     "slide_type": "slide"
    }
   },
   "source": [
    "# 資料重整（Reshaping data）\n",
    "\n",
    "有時候資料並不是我們想要的排列方式，所以需要重新排列，`pandas.DataFrame.pivot()` 提供了這樣的功能。\n",
    "\n",
    "例如上述的測站資料，我們希望依照月/日來列出溫度："
   ]
  },
  {
   "cell_type": "code",
   "execution_count": 40,
   "metadata": {},
   "outputs": [
    {
     "data": {
      "text/html": [
       "<div>\n",
       "<style scoped>\n",
       "    .dataframe tbody tr th:only-of-type {\n",
       "        vertical-align: middle;\n",
       "    }\n",
       "\n",
       "    .dataframe tbody tr th {\n",
       "        vertical-align: top;\n",
       "    }\n",
       "\n",
       "    .dataframe thead th {\n",
       "        text-align: right;\n",
       "    }\n",
       "</style>\n",
       "<table border=\"1\" class=\"dataframe\">\n",
       "  <thead>\n",
       "    <tr style=\"text-align: right;\">\n",
       "      <th>Day</th>\n",
       "      <th>1</th>\n",
       "      <th>2</th>\n",
       "      <th>3</th>\n",
       "      <th>4</th>\n",
       "      <th>5</th>\n",
       "      <th>6</th>\n",
       "      <th>7</th>\n",
       "      <th>8</th>\n",
       "      <th>9</th>\n",
       "      <th>10</th>\n",
       "      <th>...</th>\n",
       "      <th>22</th>\n",
       "      <th>23</th>\n",
       "      <th>24</th>\n",
       "      <th>25</th>\n",
       "      <th>26</th>\n",
       "      <th>27</th>\n",
       "      <th>28</th>\n",
       "      <th>29</th>\n",
       "      <th>30</th>\n",
       "      <th>31</th>\n",
       "    </tr>\n",
       "    <tr>\n",
       "      <th>Month</th>\n",
       "      <th></th>\n",
       "      <th></th>\n",
       "      <th></th>\n",
       "      <th></th>\n",
       "      <th></th>\n",
       "      <th></th>\n",
       "      <th></th>\n",
       "      <th></th>\n",
       "      <th></th>\n",
       "      <th></th>\n",
       "      <th></th>\n",
       "      <th></th>\n",
       "      <th></th>\n",
       "      <th></th>\n",
       "      <th></th>\n",
       "      <th></th>\n",
       "      <th></th>\n",
       "      <th></th>\n",
       "      <th></th>\n",
       "      <th></th>\n",
       "      <th></th>\n",
       "    </tr>\n",
       "  </thead>\n",
       "  <tbody>\n",
       "    <tr>\n",
       "      <th>5</th>\n",
       "      <td>67.0</td>\n",
       "      <td>72.0</td>\n",
       "      <td>74.0</td>\n",
       "      <td>62.0</td>\n",
       "      <td>56.0</td>\n",
       "      <td>66.0</td>\n",
       "      <td>65.0</td>\n",
       "      <td>59.0</td>\n",
       "      <td>61.0</td>\n",
       "      <td>69.0</td>\n",
       "      <td>...</td>\n",
       "      <td>73.0</td>\n",
       "      <td>61.0</td>\n",
       "      <td>61.0</td>\n",
       "      <td>57.0</td>\n",
       "      <td>58.0</td>\n",
       "      <td>57.0</td>\n",
       "      <td>67.0</td>\n",
       "      <td>81.0</td>\n",
       "      <td>79.0</td>\n",
       "      <td>76.0</td>\n",
       "    </tr>\n",
       "    <tr>\n",
       "      <th>6</th>\n",
       "      <td>78.0</td>\n",
       "      <td>74.0</td>\n",
       "      <td>67.0</td>\n",
       "      <td>84.0</td>\n",
       "      <td>85.0</td>\n",
       "      <td>79.0</td>\n",
       "      <td>82.0</td>\n",
       "      <td>87.0</td>\n",
       "      <td>90.0</td>\n",
       "      <td>87.0</td>\n",
       "      <td>...</td>\n",
       "      <td>76.0</td>\n",
       "      <td>76.0</td>\n",
       "      <td>76.0</td>\n",
       "      <td>75.0</td>\n",
       "      <td>78.0</td>\n",
       "      <td>73.0</td>\n",
       "      <td>80.0</td>\n",
       "      <td>77.0</td>\n",
       "      <td>83.0</td>\n",
       "      <td>NaN</td>\n",
       "    </tr>\n",
       "    <tr>\n",
       "      <th>7</th>\n",
       "      <td>84.0</td>\n",
       "      <td>85.0</td>\n",
       "      <td>81.0</td>\n",
       "      <td>84.0</td>\n",
       "      <td>83.0</td>\n",
       "      <td>83.0</td>\n",
       "      <td>88.0</td>\n",
       "      <td>92.0</td>\n",
       "      <td>92.0</td>\n",
       "      <td>89.0</td>\n",
       "      <td>...</td>\n",
       "      <td>81.0</td>\n",
       "      <td>82.0</td>\n",
       "      <td>86.0</td>\n",
       "      <td>85.0</td>\n",
       "      <td>82.0</td>\n",
       "      <td>86.0</td>\n",
       "      <td>88.0</td>\n",
       "      <td>86.0</td>\n",
       "      <td>83.0</td>\n",
       "      <td>81.0</td>\n",
       "    </tr>\n",
       "    <tr>\n",
       "      <th>8</th>\n",
       "      <td>81.0</td>\n",
       "      <td>81.0</td>\n",
       "      <td>82.0</td>\n",
       "      <td>86.0</td>\n",
       "      <td>85.0</td>\n",
       "      <td>87.0</td>\n",
       "      <td>89.0</td>\n",
       "      <td>90.0</td>\n",
       "      <td>90.0</td>\n",
       "      <td>92.0</td>\n",
       "      <td>...</td>\n",
       "      <td>72.0</td>\n",
       "      <td>75.0</td>\n",
       "      <td>79.0</td>\n",
       "      <td>81.0</td>\n",
       "      <td>86.0</td>\n",
       "      <td>88.0</td>\n",
       "      <td>97.0</td>\n",
       "      <td>94.0</td>\n",
       "      <td>96.0</td>\n",
       "      <td>94.0</td>\n",
       "    </tr>\n",
       "    <tr>\n",
       "      <th>9</th>\n",
       "      <td>91.0</td>\n",
       "      <td>92.0</td>\n",
       "      <td>93.0</td>\n",
       "      <td>93.0</td>\n",
       "      <td>87.0</td>\n",
       "      <td>84.0</td>\n",
       "      <td>80.0</td>\n",
       "      <td>78.0</td>\n",
       "      <td>75.0</td>\n",
       "      <td>73.0</td>\n",
       "      <td>...</td>\n",
       "      <td>71.0</td>\n",
       "      <td>81.0</td>\n",
       "      <td>69.0</td>\n",
       "      <td>63.0</td>\n",
       "      <td>70.0</td>\n",
       "      <td>77.0</td>\n",
       "      <td>75.0</td>\n",
       "      <td>76.0</td>\n",
       "      <td>68.0</td>\n",
       "      <td>NaN</td>\n",
       "    </tr>\n",
       "  </tbody>\n",
       "</table>\n",
       "<p>5 rows × 31 columns</p>\n",
       "</div>"
      ],
      "text/plain": [
       "Day      1     2     3     4     5     6     7     8     9     10  ...    22  \\\n",
       "Month                                                              ...         \n",
       "5      67.0  72.0  74.0  62.0  56.0  66.0  65.0  59.0  61.0  69.0  ...  73.0   \n",
       "6      78.0  74.0  67.0  84.0  85.0  79.0  82.0  87.0  90.0  87.0  ...  76.0   \n",
       "7      84.0  85.0  81.0  84.0  83.0  83.0  88.0  92.0  92.0  89.0  ...  81.0   \n",
       "8      81.0  81.0  82.0  86.0  85.0  87.0  89.0  90.0  90.0  92.0  ...  72.0   \n",
       "9      91.0  92.0  93.0  93.0  87.0  84.0  80.0  78.0  75.0  73.0  ...  71.0   \n",
       "\n",
       "Day      23    24    25    26    27    28    29    30    31  \n",
       "Month                                                        \n",
       "5      61.0  61.0  57.0  58.0  57.0  67.0  81.0  79.0  76.0  \n",
       "6      76.0  76.0  75.0  78.0  73.0  80.0  77.0  83.0   NaN  \n",
       "7      82.0  86.0  85.0  82.0  86.0  88.0  86.0  83.0  81.0  \n",
       "8      75.0  79.0  81.0  86.0  88.0  97.0  94.0  96.0  94.0  \n",
       "9      81.0  69.0  63.0  70.0  77.0  75.0  76.0  68.0   NaN  \n",
       "\n",
       "[5 rows x 31 columns]"
      ]
     },
     "execution_count": 40,
     "metadata": {},
     "output_type": "execute_result"
    }
   ],
   "source": [
    "tmpdata = data.pivot(index='Month', columns='Day', values='Temp')\n",
    "tmpdata"
   ]
  },
  {
   "cell_type": "markdown",
   "metadata": {
    "slideshow": {
     "slide_type": "slide"
    }
   },
   "source": [
    "有時候，我們想要反過來，把眾多欄位變成一個單一的欄位， `pandas.DataFrame.melt()` 提供了這樣的功能。\n",
    "\n",
    "例如，上述的氣溫資料，我們希望把「日期─溫度」變成單一的索引："
   ]
  },
  {
   "cell_type": "code",
   "execution_count": 41,
   "metadata": {},
   "outputs": [
    {
     "data": {
      "text/html": [
       "<div>\n",
       "<style scoped>\n",
       "    .dataframe tbody tr th:only-of-type {\n",
       "        vertical-align: middle;\n",
       "    }\n",
       "\n",
       "    .dataframe tbody tr th {\n",
       "        vertical-align: top;\n",
       "    }\n",
       "\n",
       "    .dataframe thead th {\n",
       "        text-align: right;\n",
       "    }\n",
       "</style>\n",
       "<table border=\"1\" class=\"dataframe\">\n",
       "  <thead>\n",
       "    <tr style=\"text-align: right;\">\n",
       "      <th></th>\n",
       "      <th>Month</th>\n",
       "      <th>Day</th>\n",
       "      <th>variable</th>\n",
       "      <th>value</th>\n",
       "    </tr>\n",
       "  </thead>\n",
       "  <tbody>\n",
       "    <tr>\n",
       "      <th>0</th>\n",
       "      <td>5</td>\n",
       "      <td>1</td>\n",
       "      <td>Temp</td>\n",
       "      <td>67.0</td>\n",
       "    </tr>\n",
       "    <tr>\n",
       "      <th>1</th>\n",
       "      <td>5</td>\n",
       "      <td>2</td>\n",
       "      <td>Temp</td>\n",
       "      <td>72.0</td>\n",
       "    </tr>\n",
       "    <tr>\n",
       "      <th>2</th>\n",
       "      <td>5</td>\n",
       "      <td>3</td>\n",
       "      <td>Temp</td>\n",
       "      <td>74.0</td>\n",
       "    </tr>\n",
       "    <tr>\n",
       "      <th>3</th>\n",
       "      <td>5</td>\n",
       "      <td>4</td>\n",
       "      <td>Temp</td>\n",
       "      <td>62.0</td>\n",
       "    </tr>\n",
       "    <tr>\n",
       "      <th>4</th>\n",
       "      <td>5</td>\n",
       "      <td>5</td>\n",
       "      <td>Temp</td>\n",
       "      <td>56.0</td>\n",
       "    </tr>\n",
       "  </tbody>\n",
       "</table>\n",
       "</div>"
      ],
      "text/plain": [
       "   Month  Day variable  value\n",
       "0      5    1     Temp   67.0\n",
       "1      5    2     Temp   72.0\n",
       "2      5    3     Temp   74.0\n",
       "3      5    4     Temp   62.0\n",
       "4      5    5     Temp   56.0"
      ]
     },
     "execution_count": 41,
     "metadata": {},
     "output_type": "execute_result"
    }
   ],
   "source": [
    "data.melt(id_vars=['Month','Day'], value_vars=['Temp','Ozone']).head()"
   ]
  },
  {
   "cell_type": "markdown",
   "metadata": {
    "slideshow": {
     "slide_type": "slide"
    }
   },
   "source": [
    "# 合併資料 (Merging data)\n",
    "\n",
    "有時候，我們的資料來自多個來源（檔案），但在分析前我們需要將資料合併。\n",
    "\n",
    "## Merge data with a key\n",
    "\n",
    "如果兩組資料有部分共同的欄位，我們可以透過這些欄位來進行「交集」（`join`）式的合併。"
   ]
  },
  {
   "cell_type": "code",
   "execution_count": 42,
   "metadata": {},
   "outputs": [
    {
     "data": {
      "text/html": [
       "<div>\n",
       "<style scoped>\n",
       "    .dataframe tbody tr th:only-of-type {\n",
       "        vertical-align: middle;\n",
       "    }\n",
       "\n",
       "    .dataframe tbody tr th {\n",
       "        vertical-align: top;\n",
       "    }\n",
       "\n",
       "    .dataframe thead th {\n",
       "        text-align: right;\n",
       "    }\n",
       "</style>\n",
       "<table border=\"1\" class=\"dataframe\">\n",
       "  <thead>\n",
       "    <tr style=\"text-align: right;\">\n",
       "      <th></th>\n",
       "      <th>Unnamed: 0</th>\n",
       "      <th>Wind</th>\n",
       "      <th>Temp</th>\n",
       "      <th>Month</th>\n",
       "      <th>Day</th>\n",
       "    </tr>\n",
       "  </thead>\n",
       "  <tbody>\n",
       "    <tr>\n",
       "      <th>0</th>\n",
       "      <td>0</td>\n",
       "      <td>7.4</td>\n",
       "      <td>67</td>\n",
       "      <td>5</td>\n",
       "      <td>1</td>\n",
       "    </tr>\n",
       "    <tr>\n",
       "      <th>1</th>\n",
       "      <td>1</td>\n",
       "      <td>8.0</td>\n",
       "      <td>72</td>\n",
       "      <td>5</td>\n",
       "      <td>2</td>\n",
       "    </tr>\n",
       "    <tr>\n",
       "      <th>2</th>\n",
       "      <td>2</td>\n",
       "      <td>12.6</td>\n",
       "      <td>74</td>\n",
       "      <td>5</td>\n",
       "      <td>3</td>\n",
       "    </tr>\n",
       "    <tr>\n",
       "      <th>3</th>\n",
       "      <td>3</td>\n",
       "      <td>11.5</td>\n",
       "      <td>62</td>\n",
       "      <td>5</td>\n",
       "      <td>4</td>\n",
       "    </tr>\n",
       "    <tr>\n",
       "      <th>4</th>\n",
       "      <td>4</td>\n",
       "      <td>14.3</td>\n",
       "      <td>56</td>\n",
       "      <td>5</td>\n",
       "      <td>5</td>\n",
       "    </tr>\n",
       "  </tbody>\n",
       "</table>\n",
       "</div>"
      ],
      "text/plain": [
       "   Unnamed: 0  Wind  Temp  Month  Day\n",
       "0           0   7.4    67      5    1\n",
       "1           1   8.0    72      5    2\n",
       "2           2  12.6    74      5    3\n",
       "3           3  11.5    62      5    4\n",
       "4           4  14.3    56      5    5"
      ]
     },
     "execution_count": 42,
     "metadata": {},
     "output_type": "execute_result"
    }
   ],
   "source": [
    "sub1 = pd.read_csv('../data/data_sample1_subset1.csv')\n",
    "sub2 = pd.read_csv('../data/data_sample1_subset2.csv')\n",
    "sub1.head()"
   ]
  },
  {
   "cell_type": "code",
   "execution_count": 43,
   "metadata": {},
   "outputs": [
    {
     "data": {
      "text/html": [
       "<div>\n",
       "<style scoped>\n",
       "    .dataframe tbody tr th:only-of-type {\n",
       "        vertical-align: middle;\n",
       "    }\n",
       "\n",
       "    .dataframe tbody tr th {\n",
       "        vertical-align: top;\n",
       "    }\n",
       "\n",
       "    .dataframe thead th {\n",
       "        text-align: right;\n",
       "    }\n",
       "</style>\n",
       "<table border=\"1\" class=\"dataframe\">\n",
       "  <thead>\n",
       "    <tr style=\"text-align: right;\">\n",
       "      <th></th>\n",
       "      <th>Unnamed: 0</th>\n",
       "      <th>Ozone</th>\n",
       "      <th>Solar.R</th>\n",
       "      <th>Month</th>\n",
       "      <th>Day</th>\n",
       "    </tr>\n",
       "  </thead>\n",
       "  <tbody>\n",
       "    <tr>\n",
       "      <th>0</th>\n",
       "      <td>0</td>\n",
       "      <td>41.0</td>\n",
       "      <td>190.0</td>\n",
       "      <td>5</td>\n",
       "      <td>1</td>\n",
       "    </tr>\n",
       "    <tr>\n",
       "      <th>1</th>\n",
       "      <td>1</td>\n",
       "      <td>36.0</td>\n",
       "      <td>118.0</td>\n",
       "      <td>5</td>\n",
       "      <td>2</td>\n",
       "    </tr>\n",
       "    <tr>\n",
       "      <th>2</th>\n",
       "      <td>2</td>\n",
       "      <td>12.0</td>\n",
       "      <td>149.0</td>\n",
       "      <td>5</td>\n",
       "      <td>3</td>\n",
       "    </tr>\n",
       "    <tr>\n",
       "      <th>3</th>\n",
       "      <td>3</td>\n",
       "      <td>18.0</td>\n",
       "      <td>313.0</td>\n",
       "      <td>5</td>\n",
       "      <td>4</td>\n",
       "    </tr>\n",
       "    <tr>\n",
       "      <th>4</th>\n",
       "      <td>4</td>\n",
       "      <td>NaN</td>\n",
       "      <td>NaN</td>\n",
       "      <td>5</td>\n",
       "      <td>5</td>\n",
       "    </tr>\n",
       "  </tbody>\n",
       "</table>\n",
       "</div>"
      ],
      "text/plain": [
       "   Unnamed: 0  Ozone  Solar.R  Month  Day\n",
       "0           0   41.0    190.0      5    1\n",
       "1           1   36.0    118.0      5    2\n",
       "2           2   12.0    149.0      5    3\n",
       "3           3   18.0    313.0      5    4\n",
       "4           4    NaN      NaN      5    5"
      ]
     },
     "execution_count": 43,
     "metadata": {},
     "output_type": "execute_result"
    }
   ],
   "source": [
    "sub2.head()"
   ]
  },
  {
   "cell_type": "markdown",
   "metadata": {
    "slideshow": {
     "slide_type": "slide"
    }
   },
   "source": [
    "`pandas.DataFrame.merge()` 可以將一個資料集依據指定的欄位併入另一個資料集，完整的函數用法可以參考[使用手冊](https://pandas.pydata.org/pandas-docs/stable/generated/pandas.DataFrame.merge.html#pandas.DataFrame.merge)。"
   ]
  },
  {
   "cell_type": "code",
   "execution_count": 44,
   "metadata": {},
   "outputs": [
    {
     "data": {
      "text/html": [
       "<div>\n",
       "<style scoped>\n",
       "    .dataframe tbody tr th:only-of-type {\n",
       "        vertical-align: middle;\n",
       "    }\n",
       "\n",
       "    .dataframe tbody tr th {\n",
       "        vertical-align: top;\n",
       "    }\n",
       "\n",
       "    .dataframe thead th {\n",
       "        text-align: right;\n",
       "    }\n",
       "</style>\n",
       "<table border=\"1\" class=\"dataframe\">\n",
       "  <thead>\n",
       "    <tr style=\"text-align: right;\">\n",
       "      <th></th>\n",
       "      <th>Wind</th>\n",
       "      <th>Temp</th>\n",
       "      <th>Month</th>\n",
       "      <th>Day</th>\n",
       "      <th>Ozone</th>\n",
       "      <th>Solar.R</th>\n",
       "    </tr>\n",
       "  </thead>\n",
       "  <tbody>\n",
       "    <tr>\n",
       "      <th>0</th>\n",
       "      <td>7.4</td>\n",
       "      <td>67</td>\n",
       "      <td>5</td>\n",
       "      <td>1</td>\n",
       "      <td>41.0</td>\n",
       "      <td>190.0</td>\n",
       "    </tr>\n",
       "    <tr>\n",
       "      <th>1</th>\n",
       "      <td>8.0</td>\n",
       "      <td>72</td>\n",
       "      <td>5</td>\n",
       "      <td>2</td>\n",
       "      <td>36.0</td>\n",
       "      <td>118.0</td>\n",
       "    </tr>\n",
       "    <tr>\n",
       "      <th>2</th>\n",
       "      <td>12.6</td>\n",
       "      <td>74</td>\n",
       "      <td>5</td>\n",
       "      <td>3</td>\n",
       "      <td>12.0</td>\n",
       "      <td>149.0</td>\n",
       "    </tr>\n",
       "    <tr>\n",
       "      <th>3</th>\n",
       "      <td>11.5</td>\n",
       "      <td>62</td>\n",
       "      <td>5</td>\n",
       "      <td>4</td>\n",
       "      <td>18.0</td>\n",
       "      <td>313.0</td>\n",
       "    </tr>\n",
       "    <tr>\n",
       "      <th>4</th>\n",
       "      <td>14.3</td>\n",
       "      <td>56</td>\n",
       "      <td>5</td>\n",
       "      <td>5</td>\n",
       "      <td>NaN</td>\n",
       "      <td>NaN</td>\n",
       "    </tr>\n",
       "  </tbody>\n",
       "</table>\n",
       "</div>"
      ],
      "text/plain": [
       "   Wind  Temp  Month  Day  Ozone  Solar.R\n",
       "0   7.4    67      5    1   41.0    190.0\n",
       "1   8.0    72      5    2   36.0    118.0\n",
       "2  12.6    74      5    3   12.0    149.0\n",
       "3  11.5    62      5    4   18.0    313.0\n",
       "4  14.3    56      5    5    NaN      NaN"
      ]
     },
     "execution_count": 44,
     "metadata": {},
     "output_type": "execute_result"
    }
   ],
   "source": [
    "fulldata = sub1.iloc[:,1:].merge(sub2.iloc[:,1:], on=['Month','Day'])\n",
    "fulldata.head()"
   ]
  },
  {
   "cell_type": "markdown",
   "metadata": {
    "slideshow": {
     "slide_type": "slide"
    }
   },
   "source": [
    "## Merge data vertically\n",
    "\n",
    "資料合併也可以是將新的資料列增加在原本資料的最後面，透過 `pandas.DataFrame.append()` 來完成。"
   ]
  },
  {
   "cell_type": "code",
   "execution_count": 45,
   "metadata": {},
   "outputs": [
    {
     "data": {
      "text/html": [
       "<div>\n",
       "<style scoped>\n",
       "    .dataframe tbody tr th:only-of-type {\n",
       "        vertical-align: middle;\n",
       "    }\n",
       "\n",
       "    .dataframe tbody tr th {\n",
       "        vertical-align: top;\n",
       "    }\n",
       "\n",
       "    .dataframe thead th {\n",
       "        text-align: right;\n",
       "    }\n",
       "</style>\n",
       "<table border=\"1\" class=\"dataframe\">\n",
       "  <thead>\n",
       "    <tr style=\"text-align: right;\">\n",
       "      <th></th>\n",
       "      <th>a</th>\n",
       "      <th>b</th>\n",
       "    </tr>\n",
       "  </thead>\n",
       "  <tbody>\n",
       "    <tr>\n",
       "      <th>0</th>\n",
       "      <td>1</td>\n",
       "      <td>4</td>\n",
       "    </tr>\n",
       "    <tr>\n",
       "      <th>1</th>\n",
       "      <td>2</td>\n",
       "      <td>5</td>\n",
       "    </tr>\n",
       "    <tr>\n",
       "      <th>2</th>\n",
       "      <td>3</td>\n",
       "      <td>6</td>\n",
       "    </tr>\n",
       "    <tr>\n",
       "      <th>0</th>\n",
       "      <td>7</td>\n",
       "      <td>10</td>\n",
       "    </tr>\n",
       "    <tr>\n",
       "      <th>1</th>\n",
       "      <td>8</td>\n",
       "      <td>11</td>\n",
       "    </tr>\n",
       "    <tr>\n",
       "      <th>2</th>\n",
       "      <td>9</td>\n",
       "      <td>12</td>\n",
       "    </tr>\n",
       "  </tbody>\n",
       "</table>\n",
       "</div>"
      ],
      "text/plain": [
       "   a   b\n",
       "0  1   4\n",
       "1  2   5\n",
       "2  3   6\n",
       "0  7  10\n",
       "1  8  11\n",
       "2  9  12"
      ]
     },
     "execution_count": 45,
     "metadata": {},
     "output_type": "execute_result"
    }
   ],
   "source": [
    "d1 = pd.DataFrame({'a':[1,2,3],'b':[4,5,6]})\n",
    "d2 = pd.DataFrame({'a':[7,8,9],'b':[10,11,12]})\n",
    "d12 = d1.append(d2)\n",
    "d12"
   ]
  },
  {
   "cell_type": "code",
   "execution_count": 46,
   "metadata": {
    "slideshow": {
     "slide_type": "skip"
    }
   },
   "outputs": [
    {
     "data": {
      "text/html": [
       "<div>\n",
       "<style scoped>\n",
       "    .dataframe tbody tr th:only-of-type {\n",
       "        vertical-align: middle;\n",
       "    }\n",
       "\n",
       "    .dataframe tbody tr th {\n",
       "        vertical-align: top;\n",
       "    }\n",
       "\n",
       "    .dataframe thead th {\n",
       "        text-align: right;\n",
       "    }\n",
       "</style>\n",
       "<table border=\"1\" class=\"dataframe\">\n",
       "  <thead>\n",
       "    <tr style=\"text-align: right;\">\n",
       "      <th></th>\n",
       "      <th>index</th>\n",
       "      <th>a</th>\n",
       "      <th>b</th>\n",
       "    </tr>\n",
       "  </thead>\n",
       "  <tbody>\n",
       "    <tr>\n",
       "      <th>0</th>\n",
       "      <td>0</td>\n",
       "      <td>1</td>\n",
       "      <td>4</td>\n",
       "    </tr>\n",
       "    <tr>\n",
       "      <th>1</th>\n",
       "      <td>1</td>\n",
       "      <td>2</td>\n",
       "      <td>5</td>\n",
       "    </tr>\n",
       "    <tr>\n",
       "      <th>2</th>\n",
       "      <td>2</td>\n",
       "      <td>3</td>\n",
       "      <td>6</td>\n",
       "    </tr>\n",
       "    <tr>\n",
       "      <th>3</th>\n",
       "      <td>0</td>\n",
       "      <td>7</td>\n",
       "      <td>10</td>\n",
       "    </tr>\n",
       "    <tr>\n",
       "      <th>4</th>\n",
       "      <td>1</td>\n",
       "      <td>8</td>\n",
       "      <td>11</td>\n",
       "    </tr>\n",
       "    <tr>\n",
       "      <th>5</th>\n",
       "      <td>2</td>\n",
       "      <td>9</td>\n",
       "      <td>12</td>\n",
       "    </tr>\n",
       "  </tbody>\n",
       "</table>\n",
       "</div>"
      ],
      "text/plain": [
       "   index  a   b\n",
       "0      0  1   4\n",
       "1      1  2   5\n",
       "2      2  3   6\n",
       "3      0  7  10\n",
       "4      1  8  11\n",
       "5      2  9  12"
      ]
     },
     "execution_count": 46,
     "metadata": {},
     "output_type": "execute_result"
    }
   ],
   "source": [
    "d12.reset_index(inplace=True)\n",
    "d12"
   ]
  },
  {
   "cell_type": "markdown",
   "metadata": {
    "slideshow": {
     "slide_type": "slide"
    }
   },
   "source": [
    "# Summary\n",
    "\n",
    "- 原始資料通常並不完整，需要經過整理，才能成為整齊資料\n",
    "- 資料整理的過程，可能包括：\n",
    "  - 資料分割與排序（Subseting and sorting）\n",
    "  - 資料摘要（Summarizing）\n",
    "  - 增加新變項（Creating new variables）\n",
    "  - 資料重整（Reshaping data）\n",
    "  - 資料合併（Merging data）\n",
    "- 清理資料可能是一個反覆探索的過程，也不一定有標準答案，所有步驟最好保留完整的紀錄\n",
    "- 理論再多，都不如實際體驗"
   ]
  }
 ],
 "metadata": {
  "celltoolbar": "Slideshow",
  "kernelspec": {
   "display_name": "Python 3",
   "language": "python",
   "name": "python3"
  },
  "language_info": {
   "codemirror_mode": {
    "name": "ipython",
    "version": 3
   },
   "file_extension": ".py",
   "mimetype": "text/x-python",
   "name": "python",
   "nbconvert_exporter": "python",
   "pygments_lexer": "ipython3",
   "version": "3.6.8"
  }
 },
 "nbformat": 4,
 "nbformat_minor": 2
}
